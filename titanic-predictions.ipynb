{
 "cells": [
  {
   "cell_type": "markdown",
   "id": "68a481ad",
   "metadata": {
    "papermill": {
     "duration": 0.012219,
     "end_time": "2022-06-27T18:33:06.466388",
     "exception": false,
     "start_time": "2022-06-27T18:33:06.454169",
     "status": "completed"
    },
    "tags": []
   },
   "source": [
    "## The Titanic dataset"
   ]
  },
  {
   "cell_type": "code",
   "execution_count": 1,
   "id": "f8fe1598",
   "metadata": {
    "execution": {
     "iopub.execute_input": "2022-06-27T18:33:06.491306Z",
     "iopub.status.busy": "2022-06-27T18:33:06.490662Z",
     "iopub.status.idle": "2022-06-27T18:33:08.230414Z",
     "shell.execute_reply": "2022-06-27T18:33:08.229158Z"
    },
    "papermill": {
     "duration": 1.755812,
     "end_time": "2022-06-27T18:33:08.233341",
     "exception": false,
     "start_time": "2022-06-27T18:33:06.477529",
     "status": "completed"
    },
    "tags": []
   },
   "outputs": [],
   "source": [
    "import pandas as pd\n",
    "import numpy as np\n",
    "import seaborn as sns\n",
    "from matplotlib import pyplot as plt\n",
    "import scipy.stats as stats\n",
    "\n",
    "from sklearn import svm\n",
    "\n",
    "from sklearn.model_selection import train_test_split, cross_val_score\n",
    "from sklearn.model_selection import GridSearchCV\n",
    "\n",
    "from sklearn.preprocessing import MinMaxScaler,StandardScaler,PolynomialFeatures,LabelEncoder,OneHotEncoder\n",
    "\n",
    "from sklearn.metrics import r2_score, mean_absolute_error, mean_squared_error, mean_squared_log_error, confusion_matrix\n",
    "from sklearn.metrics import explained_variance_score, median_absolute_error, max_error, classification_report, auc\n",
    "from sklearn.metrics import roc_auc_score, recall_score, precision_score, roc_curve, average_precision_score,PrecisionRecallDisplay,precision_recall_curve\n",
    "\n",
    "from sklearn.linear_model import LinearRegression, Ridge, Lasso, LogisticRegression, LogisticRegressionCV\n",
    "\n",
    "from sklearn.svm import LinearSVC, SVR\n",
    "\n",
    "from sklearn.ensemble import RandomForestRegressor\n",
    "\n",
    "from sklearn.feature_selection import SelectFromModel, VarianceThreshold, RFE, SelectPercentile, SelectKBest\n",
    "\n",
    "from sklearn.tree import DecisionTreeClassifier"
   ]
  },
  {
   "cell_type": "code",
   "execution_count": 2,
   "id": "2eaaedbf",
   "metadata": {
    "execution": {
     "iopub.execute_input": "2022-06-27T18:33:08.257350Z",
     "iopub.status.busy": "2022-06-27T18:33:08.256935Z",
     "iopub.status.idle": "2022-06-27T18:33:08.345328Z",
     "shell.execute_reply": "2022-06-27T18:33:08.344080Z"
    },
    "papermill": {
     "duration": 0.103841,
     "end_time": "2022-06-27T18:33:08.348278",
     "exception": false,
     "start_time": "2022-06-27T18:33:08.244437",
     "status": "completed"
    },
    "tags": []
   },
   "outputs": [],
   "source": [
    "from sklearn.linear_model import LogisticRegression\n",
    "from sklearn.svm import SVC, LinearSVC\n",
    "from sklearn.ensemble import RandomForestClassifier\n",
    "from sklearn.neighbors import KNeighborsClassifier\n",
    "from sklearn.naive_bayes import GaussianNB\n",
    "from sklearn.linear_model import Perceptron\n",
    "from sklearn.linear_model import SGDClassifier\n",
    "from sklearn.tree import DecisionTreeClassifier\n",
    "\n",
    "from sklearn import datasets\n",
    "from sklearn.decomposition import PCA\n",
    "from sklearn.linear_model import LogisticRegression\n",
    "from sklearn.pipeline import Pipeline\n",
    "from sklearn.model_selection import GridSearchCV\n",
    "from sklearn.preprocessing import StandardScaler"
   ]
  },
  {
   "cell_type": "code",
   "execution_count": 3,
   "id": "33ab3c0f",
   "metadata": {
    "execution": {
     "iopub.execute_input": "2022-06-27T18:33:08.372938Z",
     "iopub.status.busy": "2022-06-27T18:33:08.372521Z",
     "iopub.status.idle": "2022-06-27T18:33:08.378787Z",
     "shell.execute_reply": "2022-06-27T18:33:08.377603Z"
    },
    "papermill": {
     "duration": 0.022767,
     "end_time": "2022-06-27T18:33:08.382498",
     "exception": false,
     "start_time": "2022-06-27T18:33:08.359731",
     "status": "completed"
    },
    "tags": []
   },
   "outputs": [
    {
     "name": "stdout",
     "output_type": "stream",
     "text": [
      "['titanic']\n"
     ]
    }
   ],
   "source": [
    "import os\n",
    "print(os.listdir(\"../input\"))"
   ]
  },
  {
   "cell_type": "markdown",
   "id": "d0064439",
   "metadata": {
    "papermill": {
     "duration": 0.011967,
     "end_time": "2022-06-27T18:33:08.405815",
     "exception": false,
     "start_time": "2022-06-27T18:33:08.393848",
     "status": "completed"
    },
    "tags": []
   },
   "source": [
    "\n",
    "## - **Import Data Set**\n",
    "## - **Combine train and test**\n",
    "## - Observe the main data characteristics (size, types of variables, missing data, etc)"
   ]
  },
  {
   "cell_type": "code",
   "execution_count": 4,
   "id": "bf459011",
   "metadata": {
    "execution": {
     "iopub.execute_input": "2022-06-27T18:33:08.430481Z",
     "iopub.status.busy": "2022-06-27T18:33:08.429757Z",
     "iopub.status.idle": "2022-06-27T18:33:08.555462Z",
     "shell.execute_reply": "2022-06-27T18:33:08.554207Z"
    },
    "papermill": {
     "duration": 0.140968,
     "end_time": "2022-06-27T18:33:08.558199",
     "exception": false,
     "start_time": "2022-06-27T18:33:08.417231",
     "status": "completed"
    },
    "tags": []
   },
   "outputs": [],
   "source": [
    "## Importing Data Set\n",
    "train = pd.read_csv('../input/titanic/train.csv')\n",
    "test = pd.read_csv('../input/titanic/test.csv')\n",
    "\n",
    "## Combining train and test data. Later they can be separated again for ML \n",
    "all_data =pd.concat([train,test],axis=0)\n"
   ]
  },
  {
   "cell_type": "code",
   "execution_count": 5,
   "id": "f1cffdfc",
   "metadata": {
    "execution": {
     "iopub.execute_input": "2022-06-27T18:33:08.584023Z",
     "iopub.status.busy": "2022-06-27T18:33:08.582908Z",
     "iopub.status.idle": "2022-06-27T18:33:08.609108Z",
     "shell.execute_reply": "2022-06-27T18:33:08.607919Z"
    },
    "papermill": {
     "duration": 0.042235,
     "end_time": "2022-06-27T18:33:08.611664",
     "exception": false,
     "start_time": "2022-06-27T18:33:08.569429",
     "status": "completed"
    },
    "tags": []
   },
   "outputs": [
    {
     "data": {
      "text/html": [
       "<div>\n",
       "<style scoped>\n",
       "    .dataframe tbody tr th:only-of-type {\n",
       "        vertical-align: middle;\n",
       "    }\n",
       "\n",
       "    .dataframe tbody tr th {\n",
       "        vertical-align: top;\n",
       "    }\n",
       "\n",
       "    .dataframe thead th {\n",
       "        text-align: right;\n",
       "    }\n",
       "</style>\n",
       "<table border=\"1\" class=\"dataframe\">\n",
       "  <thead>\n",
       "    <tr style=\"text-align: right;\">\n",
       "      <th></th>\n",
       "      <th>PassengerId</th>\n",
       "      <th>Survived</th>\n",
       "      <th>Pclass</th>\n",
       "      <th>Name</th>\n",
       "      <th>Sex</th>\n",
       "      <th>Age</th>\n",
       "      <th>SibSp</th>\n",
       "      <th>Parch</th>\n",
       "      <th>Ticket</th>\n",
       "      <th>Fare</th>\n",
       "      <th>Cabin</th>\n",
       "      <th>Embarked</th>\n",
       "    </tr>\n",
       "  </thead>\n",
       "  <tbody>\n",
       "    <tr>\n",
       "      <th>0</th>\n",
       "      <td>1</td>\n",
       "      <td>0.0</td>\n",
       "      <td>3</td>\n",
       "      <td>Braund, Mr. Owen Harris</td>\n",
       "      <td>male</td>\n",
       "      <td>22.0</td>\n",
       "      <td>1</td>\n",
       "      <td>0</td>\n",
       "      <td>A/5 21171</td>\n",
       "      <td>7.2500</td>\n",
       "      <td>NaN</td>\n",
       "      <td>S</td>\n",
       "    </tr>\n",
       "    <tr>\n",
       "      <th>1</th>\n",
       "      <td>2</td>\n",
       "      <td>1.0</td>\n",
       "      <td>1</td>\n",
       "      <td>Cumings, Mrs. John Bradley (Florence Briggs Th...</td>\n",
       "      <td>female</td>\n",
       "      <td>38.0</td>\n",
       "      <td>1</td>\n",
       "      <td>0</td>\n",
       "      <td>PC 17599</td>\n",
       "      <td>71.2833</td>\n",
       "      <td>C85</td>\n",
       "      <td>C</td>\n",
       "    </tr>\n",
       "    <tr>\n",
       "      <th>2</th>\n",
       "      <td>3</td>\n",
       "      <td>1.0</td>\n",
       "      <td>3</td>\n",
       "      <td>Heikkinen, Miss. Laina</td>\n",
       "      <td>female</td>\n",
       "      <td>26.0</td>\n",
       "      <td>0</td>\n",
       "      <td>0</td>\n",
       "      <td>STON/O2. 3101282</td>\n",
       "      <td>7.9250</td>\n",
       "      <td>NaN</td>\n",
       "      <td>S</td>\n",
       "    </tr>\n",
       "    <tr>\n",
       "      <th>3</th>\n",
       "      <td>4</td>\n",
       "      <td>1.0</td>\n",
       "      <td>1</td>\n",
       "      <td>Futrelle, Mrs. Jacques Heath (Lily May Peel)</td>\n",
       "      <td>female</td>\n",
       "      <td>35.0</td>\n",
       "      <td>1</td>\n",
       "      <td>0</td>\n",
       "      <td>113803</td>\n",
       "      <td>53.1000</td>\n",
       "      <td>C123</td>\n",
       "      <td>S</td>\n",
       "    </tr>\n",
       "    <tr>\n",
       "      <th>4</th>\n",
       "      <td>5</td>\n",
       "      <td>0.0</td>\n",
       "      <td>3</td>\n",
       "      <td>Allen, Mr. William Henry</td>\n",
       "      <td>male</td>\n",
       "      <td>35.0</td>\n",
       "      <td>0</td>\n",
       "      <td>0</td>\n",
       "      <td>373450</td>\n",
       "      <td>8.0500</td>\n",
       "      <td>NaN</td>\n",
       "      <td>S</td>\n",
       "    </tr>\n",
       "  </tbody>\n",
       "</table>\n",
       "</div>"
      ],
      "text/plain": [
       "   PassengerId  Survived  Pclass  \\\n",
       "0            1       0.0       3   \n",
       "1            2       1.0       1   \n",
       "2            3       1.0       3   \n",
       "3            4       1.0       1   \n",
       "4            5       0.0       3   \n",
       "\n",
       "                                                Name     Sex   Age  SibSp  \\\n",
       "0                            Braund, Mr. Owen Harris    male  22.0      1   \n",
       "1  Cumings, Mrs. John Bradley (Florence Briggs Th...  female  38.0      1   \n",
       "2                             Heikkinen, Miss. Laina  female  26.0      0   \n",
       "3       Futrelle, Mrs. Jacques Heath (Lily May Peel)  female  35.0      1   \n",
       "4                           Allen, Mr. William Henry    male  35.0      0   \n",
       "\n",
       "   Parch            Ticket     Fare Cabin Embarked  \n",
       "0      0         A/5 21171   7.2500   NaN        S  \n",
       "1      0          PC 17599  71.2833   C85        C  \n",
       "2      0  STON/O2. 3101282   7.9250   NaN        S  \n",
       "3      0            113803  53.1000  C123        S  \n",
       "4      0            373450   8.0500   NaN        S  "
      ]
     },
     "execution_count": 5,
     "metadata": {},
     "output_type": "execute_result"
    }
   ],
   "source": [
    "all_data.head()"
   ]
  },
  {
   "cell_type": "markdown",
   "id": "d5b70252",
   "metadata": {
    "papermill": {
     "duration": 0.011401,
     "end_time": "2022-06-27T18:33:08.635518",
     "exception": false,
     "start_time": "2022-06-27T18:33:08.624117",
     "status": "completed"
    },
    "tags": []
   },
   "source": [
    "# Missing data"
   ]
  },
  {
   "cell_type": "code",
   "execution_count": null,
   "id": "26e1133e",
   "metadata": {
    "papermill": {
     "duration": 0.011654,
     "end_time": "2022-06-27T18:33:08.659421",
     "exception": false,
     "start_time": "2022-06-27T18:33:08.647767",
     "status": "completed"
    },
    "tags": []
   },
   "outputs": [],
   "source": []
  },
  {
   "cell_type": "code",
   "execution_count": 6,
   "id": "0388b79e",
   "metadata": {
    "execution": {
     "iopub.execute_input": "2022-06-27T18:33:08.684148Z",
     "iopub.status.busy": "2022-06-27T18:33:08.683719Z",
     "iopub.status.idle": "2022-06-27T18:33:08.700826Z",
     "shell.execute_reply": "2022-06-27T18:33:08.699986Z"
    },
    "papermill": {
     "duration": 0.031933,
     "end_time": "2022-06-27T18:33:08.702978",
     "exception": false,
     "start_time": "2022-06-27T18:33:08.671045",
     "status": "completed"
    },
    "tags": []
   },
   "outputs": [
    {
     "data": {
      "text/html": [
       "<div>\n",
       "<style scoped>\n",
       "    .dataframe tbody tr th:only-of-type {\n",
       "        vertical-align: middle;\n",
       "    }\n",
       "\n",
       "    .dataframe tbody tr th {\n",
       "        vertical-align: top;\n",
       "    }\n",
       "\n",
       "    .dataframe thead th {\n",
       "        text-align: right;\n",
       "    }\n",
       "</style>\n",
       "<table border=\"1\" class=\"dataframe\">\n",
       "  <thead>\n",
       "    <tr style=\"text-align: right;\">\n",
       "      <th></th>\n",
       "      <th>PassengerId</th>\n",
       "      <th>Survived</th>\n",
       "      <th>Pclass</th>\n",
       "      <th>Name</th>\n",
       "      <th>Sex</th>\n",
       "      <th>Age</th>\n",
       "      <th>SibSp</th>\n",
       "      <th>Parch</th>\n",
       "      <th>Ticket</th>\n",
       "      <th>Fare</th>\n",
       "      <th>Cabin</th>\n",
       "      <th>Embarked</th>\n",
       "    </tr>\n",
       "  </thead>\n",
       "  <tbody>\n",
       "    <tr>\n",
       "      <th>0</th>\n",
       "      <td>0</td>\n",
       "      <td>418</td>\n",
       "      <td>0</td>\n",
       "      <td>0</td>\n",
       "      <td>0</td>\n",
       "      <td>263</td>\n",
       "      <td>0</td>\n",
       "      <td>0</td>\n",
       "      <td>0</td>\n",
       "      <td>1</td>\n",
       "      <td>1014</td>\n",
       "      <td>2</td>\n",
       "    </tr>\n",
       "  </tbody>\n",
       "</table>\n",
       "</div>"
      ],
      "text/plain": [
       "   PassengerId  Survived  Pclass  Name  Sex  Age  SibSp  Parch  Ticket  Fare  \\\n",
       "0            0       418       0     0    0  263      0      0       0     1   \n",
       "\n",
       "   Cabin  Embarked  \n",
       "0   1014         2  "
      ]
     },
     "execution_count": 6,
     "metadata": {},
     "output_type": "execute_result"
    }
   ],
   "source": [
    "pd.DataFrame(all_data.isnull().sum()).T"
   ]
  },
  {
   "cell_type": "markdown",
   "id": "59179022",
   "metadata": {
    "papermill": {
     "duration": 0.012084,
     "end_time": "2022-06-27T18:33:08.727015",
     "exception": false,
     "start_time": "2022-06-27T18:33:08.714931",
     "status": "completed"
    },
    "tags": []
   },
   "source": [
    "### Column 'Age'"
   ]
  },
  {
   "cell_type": "code",
   "execution_count": 7,
   "id": "cba2ad9d",
   "metadata": {
    "execution": {
     "iopub.execute_input": "2022-06-27T18:33:08.753747Z",
     "iopub.status.busy": "2022-06-27T18:33:08.752525Z",
     "iopub.status.idle": "2022-06-27T18:33:08.775445Z",
     "shell.execute_reply": "2022-06-27T18:33:08.774143Z"
    },
    "papermill": {
     "duration": 0.038875,
     "end_time": "2022-06-27T18:33:08.778121",
     "exception": false,
     "start_time": "2022-06-27T18:33:08.739246",
     "status": "completed"
    },
    "tags": []
   },
   "outputs": [
    {
     "data": {
      "text/html": [
       "<div>\n",
       "<style scoped>\n",
       "    .dataframe tbody tr th:only-of-type {\n",
       "        vertical-align: middle;\n",
       "    }\n",
       "\n",
       "    .dataframe tbody tr th {\n",
       "        vertical-align: top;\n",
       "    }\n",
       "\n",
       "    .dataframe thead th {\n",
       "        text-align: right;\n",
       "    }\n",
       "</style>\n",
       "<table border=\"1\" class=\"dataframe\">\n",
       "  <thead>\n",
       "    <tr style=\"text-align: right;\">\n",
       "      <th></th>\n",
       "      <th>PassengerId</th>\n",
       "      <th>Survived</th>\n",
       "      <th>Pclass</th>\n",
       "      <th>Name</th>\n",
       "      <th>Sex</th>\n",
       "      <th>Age</th>\n",
       "      <th>SibSp</th>\n",
       "      <th>Parch</th>\n",
       "      <th>Ticket</th>\n",
       "      <th>Fare</th>\n",
       "      <th>Cabin</th>\n",
       "      <th>Embarked</th>\n",
       "    </tr>\n",
       "  </thead>\n",
       "  <tbody>\n",
       "    <tr>\n",
       "      <th>5</th>\n",
       "      <td>6</td>\n",
       "      <td>0.0</td>\n",
       "      <td>3</td>\n",
       "      <td>Moran, Mr. James</td>\n",
       "      <td>male</td>\n",
       "      <td>NaN</td>\n",
       "      <td>0</td>\n",
       "      <td>0</td>\n",
       "      <td>330877</td>\n",
       "      <td>8.4583</td>\n",
       "      <td>NaN</td>\n",
       "      <td>Q</td>\n",
       "    </tr>\n",
       "    <tr>\n",
       "      <th>17</th>\n",
       "      <td>18</td>\n",
       "      <td>1.0</td>\n",
       "      <td>2</td>\n",
       "      <td>Williams, Mr. Charles Eugene</td>\n",
       "      <td>male</td>\n",
       "      <td>NaN</td>\n",
       "      <td>0</td>\n",
       "      <td>0</td>\n",
       "      <td>244373</td>\n",
       "      <td>13.0000</td>\n",
       "      <td>NaN</td>\n",
       "      <td>S</td>\n",
       "    </tr>\n",
       "    <tr>\n",
       "      <th>19</th>\n",
       "      <td>20</td>\n",
       "      <td>1.0</td>\n",
       "      <td>3</td>\n",
       "      <td>Masselmani, Mrs. Fatima</td>\n",
       "      <td>female</td>\n",
       "      <td>NaN</td>\n",
       "      <td>0</td>\n",
       "      <td>0</td>\n",
       "      <td>2649</td>\n",
       "      <td>7.2250</td>\n",
       "      <td>NaN</td>\n",
       "      <td>C</td>\n",
       "    </tr>\n",
       "    <tr>\n",
       "      <th>26</th>\n",
       "      <td>27</td>\n",
       "      <td>0.0</td>\n",
       "      <td>3</td>\n",
       "      <td>Emir, Mr. Farred Chehab</td>\n",
       "      <td>male</td>\n",
       "      <td>NaN</td>\n",
       "      <td>0</td>\n",
       "      <td>0</td>\n",
       "      <td>2631</td>\n",
       "      <td>7.2250</td>\n",
       "      <td>NaN</td>\n",
       "      <td>C</td>\n",
       "    </tr>\n",
       "    <tr>\n",
       "      <th>28</th>\n",
       "      <td>29</td>\n",
       "      <td>1.0</td>\n",
       "      <td>3</td>\n",
       "      <td>O'Dwyer, Miss. Ellen \"Nellie\"</td>\n",
       "      <td>female</td>\n",
       "      <td>NaN</td>\n",
       "      <td>0</td>\n",
       "      <td>0</td>\n",
       "      <td>330959</td>\n",
       "      <td>7.8792</td>\n",
       "      <td>NaN</td>\n",
       "      <td>Q</td>\n",
       "    </tr>\n",
       "  </tbody>\n",
       "</table>\n",
       "</div>"
      ],
      "text/plain": [
       "    PassengerId  Survived  Pclass                           Name     Sex  Age  \\\n",
       "5             6       0.0       3               Moran, Mr. James    male  NaN   \n",
       "17           18       1.0       2   Williams, Mr. Charles Eugene    male  NaN   \n",
       "19           20       1.0       3        Masselmani, Mrs. Fatima  female  NaN   \n",
       "26           27       0.0       3        Emir, Mr. Farred Chehab    male  NaN   \n",
       "28           29       1.0       3  O'Dwyer, Miss. Ellen \"Nellie\"  female  NaN   \n",
       "\n",
       "    SibSp  Parch  Ticket     Fare Cabin Embarked  \n",
       "5       0      0  330877   8.4583   NaN        Q  \n",
       "17      0      0  244373  13.0000   NaN        S  \n",
       "19      0      0    2649   7.2250   NaN        C  \n",
       "26      0      0    2631   7.2250   NaN        C  \n",
       "28      0      0  330959   7.8792   NaN        Q  "
      ]
     },
     "execution_count": 7,
     "metadata": {},
     "output_type": "execute_result"
    }
   ],
   "source": [
    "all_data[all_data['Age'].isnull()].head()"
   ]
  },
  {
   "cell_type": "code",
   "execution_count": 8,
   "id": "68e63f54",
   "metadata": {
    "execution": {
     "iopub.execute_input": "2022-06-27T18:33:08.805434Z",
     "iopub.status.busy": "2022-06-27T18:33:08.804994Z",
     "iopub.status.idle": "2022-06-27T18:33:08.820551Z",
     "shell.execute_reply": "2022-06-27T18:33:08.819601Z"
    },
    "papermill": {
     "duration": 0.032124,
     "end_time": "2022-06-27T18:33:08.823058",
     "exception": false,
     "start_time": "2022-06-27T18:33:08.790934",
     "status": "completed"
    },
    "tags": []
   },
   "outputs": [
    {
     "data": {
      "text/plain": [
       "Sex     Pclass\n",
       "female  1         37.037594\n",
       "        2         27.499223\n",
       "        3         22.185329\n",
       "male    1         41.029272\n",
       "        2         30.815380\n",
       "        3         25.962264\n",
       "Name: Age, dtype: float64"
      ]
     },
     "execution_count": 8,
     "metadata": {},
     "output_type": "execute_result"
    }
   ],
   "source": [
    "all_data.groupby(['Sex','Pclass'])['Age'].mean()"
   ]
  },
  {
   "cell_type": "code",
   "execution_count": 9,
   "id": "38fcb06a",
   "metadata": {
    "execution": {
     "iopub.execute_input": "2022-06-27T18:33:08.849609Z",
     "iopub.status.busy": "2022-06-27T18:33:08.849209Z",
     "iopub.status.idle": "2022-06-27T18:33:09.302128Z",
     "shell.execute_reply": "2022-06-27T18:33:09.300856Z"
    },
    "papermill": {
     "duration": 0.46966,
     "end_time": "2022-06-27T18:33:09.304974",
     "exception": false,
     "start_time": "2022-06-27T18:33:08.835314",
     "status": "completed"
    },
    "scrolled": true,
    "tags": []
   },
   "outputs": [
    {
     "data": {
      "image/png": "[encoded data removed]",
      "text/plain": [
       "<Figure size 432x288 with 1 Axes>"
      ]
     },
     "metadata": {
      "needs_background": "light"
     },
     "output_type": "display_data"
    }
   ],
   "source": [
    "sns.barplot(x='Sex', y='Age', hue = 'Pclass',data=all_data);"
   ]
  },
  {
   "cell_type": "code",
   "execution_count": 10,
   "id": "8cd939d6",
   "metadata": {
    "execution": {
     "iopub.execute_input": "2022-06-27T18:33:09.332878Z",
     "iopub.status.busy": "2022-06-27T18:33:09.332459Z",
     "iopub.status.idle": "2022-06-27T18:33:09.416582Z",
     "shell.execute_reply": "2022-06-27T18:33:09.415382Z"
    },
    "papermill": {
     "duration": 0.10092,
     "end_time": "2022-06-27T18:33:09.419228",
     "exception": false,
     "start_time": "2022-06-27T18:33:09.318308",
     "status": "completed"
    },
    "scrolled": true,
    "tags": []
   },
   "outputs": [
    {
     "data": {
      "text/html": [
       "<div>\n",
       "<style scoped>\n",
       "    .dataframe tbody tr th:only-of-type {\n",
       "        vertical-align: middle;\n",
       "    }\n",
       "\n",
       "    .dataframe tbody tr th {\n",
       "        vertical-align: top;\n",
       "    }\n",
       "\n",
       "    .dataframe thead th {\n",
       "        text-align: right;\n",
       "    }\n",
       "</style>\n",
       "<table border=\"1\" class=\"dataframe\">\n",
       "  <thead>\n",
       "    <tr style=\"text-align: right;\">\n",
       "      <th></th>\n",
       "      <th>PassengerId</th>\n",
       "      <th>Survived</th>\n",
       "      <th>Pclass</th>\n",
       "      <th>Name</th>\n",
       "      <th>Sex</th>\n",
       "      <th>Age</th>\n",
       "      <th>SibSp</th>\n",
       "      <th>Parch</th>\n",
       "      <th>Ticket</th>\n",
       "      <th>Fare</th>\n",
       "      <th>Cabin</th>\n",
       "      <th>Embarked</th>\n",
       "      <th>Age_bin</th>\n",
       "      <th>Baby_ind</th>\n",
       "      <th>Fare_bin</th>\n",
       "      <th>Cabin_ind</th>\n",
       "      <th>Title</th>\n",
       "      <th>Family_Size</th>\n",
       "      <th>IsAlone</th>\n",
       "      <th>Family_Size_bin</th>\n",
       "    </tr>\n",
       "  </thead>\n",
       "  <tbody>\n",
       "    <tr>\n",
       "      <th>0</th>\n",
       "      <td>1</td>\n",
       "      <td>0.0</td>\n",
       "      <td>3</td>\n",
       "      <td>Braund, Mr. Owen Harris</td>\n",
       "      <td>male</td>\n",
       "      <td>22.0</td>\n",
       "      <td>1</td>\n",
       "      <td>0</td>\n",
       "      <td>A/5 21171</td>\n",
       "      <td>7.2500</td>\n",
       "      <td>NaN</td>\n",
       "      <td>S</td>\n",
       "      <td>2</td>\n",
       "      <td>0</td>\n",
       "      <td>0</td>\n",
       "      <td>0</td>\n",
       "      <td>Mr</td>\n",
       "      <td>2</td>\n",
       "      <td>0</td>\n",
       "      <td>1</td>\n",
       "    </tr>\n",
       "    <tr>\n",
       "      <th>1</th>\n",
       "      <td>2</td>\n",
       "      <td>1.0</td>\n",
       "      <td>1</td>\n",
       "      <td>Cumings, Mrs. John Bradley (Florence Briggs Th...</td>\n",
       "      <td>female</td>\n",
       "      <td>38.0</td>\n",
       "      <td>1</td>\n",
       "      <td>0</td>\n",
       "      <td>PC 17599</td>\n",
       "      <td>71.2833</td>\n",
       "      <td>C85</td>\n",
       "      <td>C</td>\n",
       "      <td>3</td>\n",
       "      <td>0</td>\n",
       "      <td>3</td>\n",
       "      <td>1</td>\n",
       "      <td>Mrs</td>\n",
       "      <td>2</td>\n",
       "      <td>0</td>\n",
       "      <td>1</td>\n",
       "    </tr>\n",
       "    <tr>\n",
       "      <th>2</th>\n",
       "      <td>3</td>\n",
       "      <td>1.0</td>\n",
       "      <td>3</td>\n",
       "      <td>Heikkinen, Miss. Laina</td>\n",
       "      <td>female</td>\n",
       "      <td>26.0</td>\n",
       "      <td>0</td>\n",
       "      <td>0</td>\n",
       "      <td>STON/O2. 3101282</td>\n",
       "      <td>7.9250</td>\n",
       "      <td>NaN</td>\n",
       "      <td>S</td>\n",
       "      <td>2</td>\n",
       "      <td>0</td>\n",
       "      <td>1</td>\n",
       "      <td>0</td>\n",
       "      <td>Miss</td>\n",
       "      <td>1</td>\n",
       "      <td>1</td>\n",
       "      <td>1</td>\n",
       "    </tr>\n",
       "    <tr>\n",
       "      <th>3</th>\n",
       "      <td>4</td>\n",
       "      <td>1.0</td>\n",
       "      <td>1</td>\n",
       "      <td>Futrelle, Mrs. Jacques Heath (Lily May Peel)</td>\n",
       "      <td>female</td>\n",
       "      <td>35.0</td>\n",
       "      <td>1</td>\n",
       "      <td>0</td>\n",
       "      <td>113803</td>\n",
       "      <td>53.1000</td>\n",
       "      <td>C123</td>\n",
       "      <td>S</td>\n",
       "      <td>3</td>\n",
       "      <td>0</td>\n",
       "      <td>3</td>\n",
       "      <td>1</td>\n",
       "      <td>Mrs</td>\n",
       "      <td>2</td>\n",
       "      <td>0</td>\n",
       "      <td>1</td>\n",
       "    </tr>\n",
       "    <tr>\n",
       "      <th>4</th>\n",
       "      <td>5</td>\n",
       "      <td>0.0</td>\n",
       "      <td>3</td>\n",
       "      <td>Allen, Mr. William Henry</td>\n",
       "      <td>male</td>\n",
       "      <td>35.0</td>\n",
       "      <td>0</td>\n",
       "      <td>0</td>\n",
       "      <td>373450</td>\n",
       "      <td>8.0500</td>\n",
       "      <td>NaN</td>\n",
       "      <td>S</td>\n",
       "      <td>3</td>\n",
       "      <td>0</td>\n",
       "      <td>1</td>\n",
       "      <td>0</td>\n",
       "      <td>Mr</td>\n",
       "      <td>1</td>\n",
       "      <td>1</td>\n",
       "      <td>1</td>\n",
       "    </tr>\n",
       "  </tbody>\n",
       "</table>\n",
       "</div>"
      ],
      "text/plain": [
       "   PassengerId  Survived  Pclass  \\\n",
       "0            1       0.0       3   \n",
       "1            2       1.0       1   \n",
       "2            3       1.0       3   \n",
       "3            4       1.0       1   \n",
       "4            5       0.0       3   \n",
       "\n",
       "                                                Name     Sex   Age  SibSp  \\\n",
       "0                            Braund, Mr. Owen Harris    male  22.0      1   \n",
       "1  Cumings, Mrs. John Bradley (Florence Briggs Th...  female  38.0      1   \n",
       "2                             Heikkinen, Miss. Laina  female  26.0      0   \n",
       "3       Futrelle, Mrs. Jacques Heath (Lily May Peel)  female  35.0      1   \n",
       "4                           Allen, Mr. William Henry    male  35.0      0   \n",
       "\n",
       "   Parch            Ticket     Fare Cabin Embarked Age_bin  Baby_ind Fare_bin  \\\n",
       "0      0         A/5 21171   7.2500   NaN        S       2         0        0   \n",
       "1      0          PC 17599  71.2833   C85        C       3         0        3   \n",
       "2      0  STON/O2. 3101282   7.9250   NaN        S       2         0        1   \n",
       "3      0            113803  53.1000  C123        S       3         0        3   \n",
       "4      0            373450   8.0500   NaN        S       3         0        1   \n",
       "\n",
       "   Cabin_ind Title  Family_Size  IsAlone Family_Size_bin  \n",
       "0          0    Mr            2        0               1  \n",
       "1          1   Mrs            2        0               1  \n",
       "2          0  Miss            1        1               1  \n",
       "3          1   Mrs            2        0               1  \n",
       "4          0    Mr            1        1               1  "
      ]
     },
     "execution_count": 10,
     "metadata": {},
     "output_type": "execute_result"
    }
   ],
   "source": [
    "####################################################################################\n",
    "\n",
    "def impute_age(cols):\n",
    "    Age = cols[0]\n",
    "    Pclass = cols[1]\n",
    "    Sex = cols[2]\n",
    "    \n",
    "    if pd.isnull(Age):\n",
    "        \n",
    "        if (Pclass == 1) & (Sex == 'male'):\n",
    "            return 41\n",
    "        elif (Pclass == 2) & (Sex == 'male'):\n",
    "            return 31\n",
    "        elif (Pclass == 3) & (Sex == 'male'):\n",
    "            return 26\n",
    "        elif (Pclass == 1) & (Sex == 'female'):\n",
    "            return 37\n",
    "        elif (Pclass == 2) & (Sex == 'female'):\n",
    "            return 27\n",
    "        else:\n",
    "            return 22\n",
    "        \n",
    "    else:\n",
    "        return Age\n",
    "    \n",
    "    \n",
    "all_data['Age'] = all_data[['Age','Pclass','Sex']].apply(impute_age, axis=1)\n",
    "\n",
    "\n",
    "bins = [0, 16, 32, 48, 64, 80]\n",
    "\n",
    "labels = [1,2,3,4,5]\n",
    "\n",
    "all_data['Age_bin'] = pd.cut(all_data['Age'], bins = bins, labels=labels)\n",
    "\n",
    "all_data['Baby_ind'] = np.where(all_data['Age'] < 6, 1, 0)\n",
    "\n",
    "####################################################################################\n",
    "\n",
    "all_data['Embarked'] = all_data['Embarked'].fillna('S')\n",
    "\n",
    "####################################################################################\n",
    "\n",
    "all_data['Fare'] = all_data['Fare'].fillna(13.0)\n",
    "\n",
    "fare_bins = [0, 7.91, 14.45, 31,5000]\n",
    "\n",
    "fare_labels = [0,1,2,3]\n",
    "\n",
    "all_data['Fare_bin'] = pd.cut(all_data['Fare'], bins = fare_bins, labels=fare_labels)\n",
    "\n",
    "\n",
    "\n",
    "####################################################################################\n",
    "\n",
    "all_data['Cabin_ind'] = np.where(all_data['Cabin'].isnull(), 0, 1)\n",
    "\n",
    "####################################################################################\n",
    "\n",
    "all_data[\"Title\"] = all_data[\"Name\"].apply(lambda x: x.split(\", \")[-1].split(\".\")[0])\n",
    "\n",
    "all_data['Title'] = all_data['Title'].replace(['Lady', 'the Countess','Capt', 'Col','Don', 'Dr', 'Major', 'Rev', 'Sir', 'Jonkheer', 'Dona'], 'Officer')\n",
    "# all_data['Title'] = all_data['Title'].replace(['Lady', 'the Countess', 'Don', 'Sir', 'Jonkheer', 'Dona'], 'Royal')\n",
    "all_data['Title'] = all_data['Title'].replace(['Mlle', 'Ms'], 'Miss')\n",
    "all_data['Title'] = all_data['Title'].replace(['Mme'], 'Mrs')\n",
    "\n",
    "####################################################################################\n",
    "\n",
    "#Family Size & Alone \n",
    "all_data['Family_Size'] = all_data['SibSp'] + all_data['Parch'] + 1\n",
    "all_data['IsAlone'] = 0\n",
    "all_data.loc[all_data['Family_Size']==1, 'IsAlone'] = 1\n",
    "\n",
    "binss = [0, 2, 4, 20]\n",
    "\n",
    "labelss = [1,2,3]\n",
    "\n",
    "all_data['Family_Size_bin'] = pd.cut(all_data['Family_Size'], bins = binss, labels=labelss)\n",
    "\n",
    "# all_data['Title'].value_counts()\n",
    "\n",
    "all_data.head()"
   ]
  },
  {
   "cell_type": "code",
   "execution_count": null,
   "id": "6444cd54",
   "metadata": {
    "papermill": {
     "duration": 0.012628,
     "end_time": "2022-06-27T18:33:09.445585",
     "exception": false,
     "start_time": "2022-06-27T18:33:09.432957",
     "status": "completed"
    },
    "tags": []
   },
   "outputs": [],
   "source": []
  },
  {
   "cell_type": "markdown",
   "id": "e0243bda",
   "metadata": {
    "papermill": {
     "duration": 0.012307,
     "end_time": "2022-06-27T18:33:09.470733",
     "exception": false,
     "start_time": "2022-06-27T18:33:09.458426",
     "status": "completed"
    },
    "tags": []
   },
   "source": [
    "# Prepare for ML"
   ]
  },
  {
   "cell_type": "code",
   "execution_count": 11,
   "id": "678c42b0",
   "metadata": {
    "execution": {
     "iopub.execute_input": "2022-06-27T18:33:09.498134Z",
     "iopub.status.busy": "2022-06-27T18:33:09.497687Z",
     "iopub.status.idle": "2022-06-27T18:33:09.502466Z",
     "shell.execute_reply": "2022-06-27T18:33:09.501365Z"
    },
    "papermill": {
     "duration": 0.021251,
     "end_time": "2022-06-27T18:33:09.504796",
     "exception": false,
     "start_time": "2022-06-27T18:33:09.483545",
     "status": "completed"
    },
    "tags": []
   },
   "outputs": [],
   "source": [
    "#pd.get_dummies(df, columns = [\"Survived\",\"Sex\",'Embarked','Pclass'], prefix = ['sur_','sex_','em_','cls'])"
   ]
  },
  {
   "cell_type": "code",
   "execution_count": 12,
   "id": "eddc43fd",
   "metadata": {
    "execution": {
     "iopub.execute_input": "2022-06-27T18:33:09.533203Z",
     "iopub.status.busy": "2022-06-27T18:33:09.532779Z",
     "iopub.status.idle": "2022-06-27T18:33:09.572513Z",
     "shell.execute_reply": "2022-06-27T18:33:09.571309Z"
    },
    "papermill": {
     "duration": 0.0567,
     "end_time": "2022-06-27T18:33:09.575148",
     "exception": false,
     "start_time": "2022-06-27T18:33:09.518448",
     "status": "completed"
    },
    "tags": []
   },
   "outputs": [
    {
     "data": {
      "text/html": [
       "<div>\n",
       "<style scoped>\n",
       "    .dataframe tbody tr th:only-of-type {\n",
       "        vertical-align: middle;\n",
       "    }\n",
       "\n",
       "    .dataframe tbody tr th {\n",
       "        vertical-align: top;\n",
       "    }\n",
       "\n",
       "    .dataframe thead th {\n",
       "        text-align: right;\n",
       "    }\n",
       "</style>\n",
       "<table border=\"1\" class=\"dataframe\">\n",
       "  <thead>\n",
       "    <tr style=\"text-align: right;\">\n",
       "      <th></th>\n",
       "      <th>Survived</th>\n",
       "      <th>Baby_ind</th>\n",
       "      <th>Cabin_ind</th>\n",
       "      <th>IsAlone</th>\n",
       "      <th>Pclass_2</th>\n",
       "      <th>Pclass_3</th>\n",
       "      <th>Sex_male</th>\n",
       "      <th>Embarked_Q</th>\n",
       "      <th>Embarked_S</th>\n",
       "      <th>Age_bin_2</th>\n",
       "      <th>...</th>\n",
       "      <th>Age_bin_5</th>\n",
       "      <th>Fare_bin_1</th>\n",
       "      <th>Fare_bin_2</th>\n",
       "      <th>Fare_bin_3</th>\n",
       "      <th>Title_Miss</th>\n",
       "      <th>Title_Mr</th>\n",
       "      <th>Title_Mrs</th>\n",
       "      <th>Title_Officer</th>\n",
       "      <th>Family_Size_bin_2</th>\n",
       "      <th>Family_Size_bin_3</th>\n",
       "    </tr>\n",
       "  </thead>\n",
       "  <tbody>\n",
       "    <tr>\n",
       "      <th>0</th>\n",
       "      <td>0.0</td>\n",
       "      <td>0</td>\n",
       "      <td>0</td>\n",
       "      <td>0</td>\n",
       "      <td>0</td>\n",
       "      <td>1</td>\n",
       "      <td>1</td>\n",
       "      <td>0</td>\n",
       "      <td>1</td>\n",
       "      <td>1</td>\n",
       "      <td>...</td>\n",
       "      <td>0</td>\n",
       "      <td>0</td>\n",
       "      <td>0</td>\n",
       "      <td>0</td>\n",
       "      <td>0</td>\n",
       "      <td>1</td>\n",
       "      <td>0</td>\n",
       "      <td>0</td>\n",
       "      <td>0</td>\n",
       "      <td>0</td>\n",
       "    </tr>\n",
       "    <tr>\n",
       "      <th>1</th>\n",
       "      <td>1.0</td>\n",
       "      <td>0</td>\n",
       "      <td>1</td>\n",
       "      <td>0</td>\n",
       "      <td>0</td>\n",
       "      <td>0</td>\n",
       "      <td>0</td>\n",
       "      <td>0</td>\n",
       "      <td>0</td>\n",
       "      <td>0</td>\n",
       "      <td>...</td>\n",
       "      <td>0</td>\n",
       "      <td>0</td>\n",
       "      <td>0</td>\n",
       "      <td>1</td>\n",
       "      <td>0</td>\n",
       "      <td>0</td>\n",
       "      <td>1</td>\n",
       "      <td>0</td>\n",
       "      <td>0</td>\n",
       "      <td>0</td>\n",
       "    </tr>\n",
       "    <tr>\n",
       "      <th>2</th>\n",
       "      <td>1.0</td>\n",
       "      <td>0</td>\n",
       "      <td>0</td>\n",
       "      <td>1</td>\n",
       "      <td>0</td>\n",
       "      <td>1</td>\n",
       "      <td>0</td>\n",
       "      <td>0</td>\n",
       "      <td>1</td>\n",
       "      <td>1</td>\n",
       "      <td>...</td>\n",
       "      <td>0</td>\n",
       "      <td>1</td>\n",
       "      <td>0</td>\n",
       "      <td>0</td>\n",
       "      <td>1</td>\n",
       "      <td>0</td>\n",
       "      <td>0</td>\n",
       "      <td>0</td>\n",
       "      <td>0</td>\n",
       "      <td>0</td>\n",
       "    </tr>\n",
       "    <tr>\n",
       "      <th>3</th>\n",
       "      <td>1.0</td>\n",
       "      <td>0</td>\n",
       "      <td>1</td>\n",
       "      <td>0</td>\n",
       "      <td>0</td>\n",
       "      <td>0</td>\n",
       "      <td>0</td>\n",
       "      <td>0</td>\n",
       "      <td>1</td>\n",
       "      <td>0</td>\n",
       "      <td>...</td>\n",
       "      <td>0</td>\n",
       "      <td>0</td>\n",
       "      <td>0</td>\n",
       "      <td>1</td>\n",
       "      <td>0</td>\n",
       "      <td>0</td>\n",
       "      <td>1</td>\n",
       "      <td>0</td>\n",
       "      <td>0</td>\n",
       "      <td>0</td>\n",
       "    </tr>\n",
       "    <tr>\n",
       "      <th>4</th>\n",
       "      <td>0.0</td>\n",
       "      <td>0</td>\n",
       "      <td>0</td>\n",
       "      <td>1</td>\n",
       "      <td>0</td>\n",
       "      <td>1</td>\n",
       "      <td>1</td>\n",
       "      <td>0</td>\n",
       "      <td>1</td>\n",
       "      <td>0</td>\n",
       "      <td>...</td>\n",
       "      <td>0</td>\n",
       "      <td>1</td>\n",
       "      <td>0</td>\n",
       "      <td>0</td>\n",
       "      <td>0</td>\n",
       "      <td>1</td>\n",
       "      <td>0</td>\n",
       "      <td>0</td>\n",
       "      <td>0</td>\n",
       "      <td>0</td>\n",
       "    </tr>\n",
       "  </tbody>\n",
       "</table>\n",
       "<p>5 rows × 22 columns</p>\n",
       "</div>"
      ],
      "text/plain": [
       "   Survived  Baby_ind  Cabin_ind  IsAlone  Pclass_2  Pclass_3  Sex_male  \\\n",
       "0       0.0         0          0        0         0         1         1   \n",
       "1       1.0         0          1        0         0         0         0   \n",
       "2       1.0         0          0        1         0         1         0   \n",
       "3       1.0         0          1        0         0         0         0   \n",
       "4       0.0         0          0        1         0         1         1   \n",
       "\n",
       "   Embarked_Q  Embarked_S  Age_bin_2  ...  Age_bin_5  Fare_bin_1  Fare_bin_2  \\\n",
       "0           0           1          1  ...          0           0           0   \n",
       "1           0           0          0  ...          0           0           0   \n",
       "2           0           1          1  ...          0           1           0   \n",
       "3           0           1          0  ...          0           0           0   \n",
       "4           0           1          0  ...          0           1           0   \n",
       "\n",
       "   Fare_bin_3  Title_Miss  Title_Mr  Title_Mrs  Title_Officer  \\\n",
       "0           0           0         1          0              0   \n",
       "1           1           0         0          1              0   \n",
       "2           0           1         0          0              0   \n",
       "3           1           0         0          1              0   \n",
       "4           0           0         1          0              0   \n",
       "\n",
       "   Family_Size_bin_2  Family_Size_bin_3  \n",
       "0                  0                  0  \n",
       "1                  0                  0  \n",
       "2                  0                  0  \n",
       "3                  0                  0  \n",
       "4                  0                  0  \n",
       "\n",
       "[5 rows x 22 columns]"
      ]
     },
     "execution_count": 12,
     "metadata": {},
     "output_type": "execute_result"
    }
   ],
   "source": [
    "all_data_1 = all_data.drop(['PassengerId', 'Name', 'Cabin','Ticket','Fare','SibSp','Parch','Age','Family_Size'], axis = 1)\n",
    "all_data_1 = all_data_1.astype({\"Pclass\": str})\n",
    "\n",
    "all_dummies = pd.get_dummies(all_data_1, drop_first = True)\n",
    "\n",
    "\n",
    "all_dummies.head()"
   ]
  },
  {
   "cell_type": "code",
   "execution_count": 13,
   "id": "6a1113b9",
   "metadata": {
    "execution": {
     "iopub.execute_input": "2022-06-27T18:33:09.603843Z",
     "iopub.status.busy": "2022-06-27T18:33:09.603463Z",
     "iopub.status.idle": "2022-06-27T18:33:09.618130Z",
     "shell.execute_reply": "2022-06-27T18:33:09.617164Z"
    },
    "papermill": {
     "duration": 0.031394,
     "end_time": "2022-06-27T18:33:09.620459",
     "exception": false,
     "start_time": "2022-06-27T18:33:09.589065",
     "status": "completed"
    },
    "tags": []
   },
   "outputs": [],
   "source": [
    "all_train = all_dummies[all_dummies['Survived'].notna()]\n",
    "\n",
    "all_test = all_dummies[all_dummies['Survived'].isna()]\n",
    "\n",
    "\n",
    "X_train, X_test, y_train, y_test = train_test_split(all_train.drop(['Survived'],axis=1), \n",
    "                                                    all_train['Survived'], test_size=0.30, \n",
    "                                                    random_state=101, stratify = all_train['Survived'])"
   ]
  },
  {
   "cell_type": "code",
   "execution_count": 14,
   "id": "a860c025",
   "metadata": {
    "execution": {
     "iopub.execute_input": "2022-06-27T18:33:09.649760Z",
     "iopub.status.busy": "2022-06-27T18:33:09.649013Z",
     "iopub.status.idle": "2022-06-27T18:33:09.672780Z",
     "shell.execute_reply": "2022-06-27T18:33:09.671629Z"
    },
    "papermill": {
     "duration": 0.041176,
     "end_time": "2022-06-27T18:33:09.675178",
     "exception": false,
     "start_time": "2022-06-27T18:33:09.634002",
     "status": "completed"
    },
    "tags": []
   },
   "outputs": [
    {
     "data": {
      "text/html": [
       "<div>\n",
       "<style scoped>\n",
       "    .dataframe tbody tr th:only-of-type {\n",
       "        vertical-align: middle;\n",
       "    }\n",
       "\n",
       "    .dataframe tbody tr th {\n",
       "        vertical-align: top;\n",
       "    }\n",
       "\n",
       "    .dataframe thead th {\n",
       "        text-align: right;\n",
       "    }\n",
       "</style>\n",
       "<table border=\"1\" class=\"dataframe\">\n",
       "  <thead>\n",
       "    <tr style=\"text-align: right;\">\n",
       "      <th></th>\n",
       "      <th>Survived</th>\n",
       "      <th>Baby_ind</th>\n",
       "      <th>Cabin_ind</th>\n",
       "      <th>IsAlone</th>\n",
       "      <th>Pclass_2</th>\n",
       "      <th>Pclass_3</th>\n",
       "      <th>Sex_male</th>\n",
       "      <th>Embarked_Q</th>\n",
       "      <th>Embarked_S</th>\n",
       "      <th>Age_bin_2</th>\n",
       "      <th>...</th>\n",
       "      <th>Age_bin_5</th>\n",
       "      <th>Fare_bin_1</th>\n",
       "      <th>Fare_bin_2</th>\n",
       "      <th>Fare_bin_3</th>\n",
       "      <th>Title_Miss</th>\n",
       "      <th>Title_Mr</th>\n",
       "      <th>Title_Mrs</th>\n",
       "      <th>Title_Officer</th>\n",
       "      <th>Family_Size_bin_2</th>\n",
       "      <th>Family_Size_bin_3</th>\n",
       "    </tr>\n",
       "  </thead>\n",
       "  <tbody>\n",
       "    <tr>\n",
       "      <th>0</th>\n",
       "      <td>0.0</td>\n",
       "      <td>0</td>\n",
       "      <td>0</td>\n",
       "      <td>0</td>\n",
       "      <td>0</td>\n",
       "      <td>1</td>\n",
       "      <td>1</td>\n",
       "      <td>0</td>\n",
       "      <td>1</td>\n",
       "      <td>1</td>\n",
       "      <td>...</td>\n",
       "      <td>0</td>\n",
       "      <td>0</td>\n",
       "      <td>0</td>\n",
       "      <td>0</td>\n",
       "      <td>0</td>\n",
       "      <td>1</td>\n",
       "      <td>0</td>\n",
       "      <td>0</td>\n",
       "      <td>0</td>\n",
       "      <td>0</td>\n",
       "    </tr>\n",
       "    <tr>\n",
       "      <th>1</th>\n",
       "      <td>1.0</td>\n",
       "      <td>0</td>\n",
       "      <td>1</td>\n",
       "      <td>0</td>\n",
       "      <td>0</td>\n",
       "      <td>0</td>\n",
       "      <td>0</td>\n",
       "      <td>0</td>\n",
       "      <td>0</td>\n",
       "      <td>0</td>\n",
       "      <td>...</td>\n",
       "      <td>0</td>\n",
       "      <td>0</td>\n",
       "      <td>0</td>\n",
       "      <td>1</td>\n",
       "      <td>0</td>\n",
       "      <td>0</td>\n",
       "      <td>1</td>\n",
       "      <td>0</td>\n",
       "      <td>0</td>\n",
       "      <td>0</td>\n",
       "    </tr>\n",
       "    <tr>\n",
       "      <th>2</th>\n",
       "      <td>1.0</td>\n",
       "      <td>0</td>\n",
       "      <td>0</td>\n",
       "      <td>1</td>\n",
       "      <td>0</td>\n",
       "      <td>1</td>\n",
       "      <td>0</td>\n",
       "      <td>0</td>\n",
       "      <td>1</td>\n",
       "      <td>1</td>\n",
       "      <td>...</td>\n",
       "      <td>0</td>\n",
       "      <td>1</td>\n",
       "      <td>0</td>\n",
       "      <td>0</td>\n",
       "      <td>1</td>\n",
       "      <td>0</td>\n",
       "      <td>0</td>\n",
       "      <td>0</td>\n",
       "      <td>0</td>\n",
       "      <td>0</td>\n",
       "    </tr>\n",
       "    <tr>\n",
       "      <th>3</th>\n",
       "      <td>1.0</td>\n",
       "      <td>0</td>\n",
       "      <td>1</td>\n",
       "      <td>0</td>\n",
       "      <td>0</td>\n",
       "      <td>0</td>\n",
       "      <td>0</td>\n",
       "      <td>0</td>\n",
       "      <td>1</td>\n",
       "      <td>0</td>\n",
       "      <td>...</td>\n",
       "      <td>0</td>\n",
       "      <td>0</td>\n",
       "      <td>0</td>\n",
       "      <td>1</td>\n",
       "      <td>0</td>\n",
       "      <td>0</td>\n",
       "      <td>1</td>\n",
       "      <td>0</td>\n",
       "      <td>0</td>\n",
       "      <td>0</td>\n",
       "    </tr>\n",
       "    <tr>\n",
       "      <th>4</th>\n",
       "      <td>0.0</td>\n",
       "      <td>0</td>\n",
       "      <td>0</td>\n",
       "      <td>1</td>\n",
       "      <td>0</td>\n",
       "      <td>1</td>\n",
       "      <td>1</td>\n",
       "      <td>0</td>\n",
       "      <td>1</td>\n",
       "      <td>0</td>\n",
       "      <td>...</td>\n",
       "      <td>0</td>\n",
       "      <td>1</td>\n",
       "      <td>0</td>\n",
       "      <td>0</td>\n",
       "      <td>0</td>\n",
       "      <td>1</td>\n",
       "      <td>0</td>\n",
       "      <td>0</td>\n",
       "      <td>0</td>\n",
       "      <td>0</td>\n",
       "    </tr>\n",
       "    <tr>\n",
       "      <th>...</th>\n",
       "      <td>...</td>\n",
       "      <td>...</td>\n",
       "      <td>...</td>\n",
       "      <td>...</td>\n",
       "      <td>...</td>\n",
       "      <td>...</td>\n",
       "      <td>...</td>\n",
       "      <td>...</td>\n",
       "      <td>...</td>\n",
       "      <td>...</td>\n",
       "      <td>...</td>\n",
       "      <td>...</td>\n",
       "      <td>...</td>\n",
       "      <td>...</td>\n",
       "      <td>...</td>\n",
       "      <td>...</td>\n",
       "      <td>...</td>\n",
       "      <td>...</td>\n",
       "      <td>...</td>\n",
       "      <td>...</td>\n",
       "      <td>...</td>\n",
       "    </tr>\n",
       "    <tr>\n",
       "      <th>886</th>\n",
       "      <td>0.0</td>\n",
       "      <td>0</td>\n",
       "      <td>0</td>\n",
       "      <td>1</td>\n",
       "      <td>1</td>\n",
       "      <td>0</td>\n",
       "      <td>1</td>\n",
       "      <td>0</td>\n",
       "      <td>1</td>\n",
       "      <td>1</td>\n",
       "      <td>...</td>\n",
       "      <td>0</td>\n",
       "      <td>1</td>\n",
       "      <td>0</td>\n",
       "      <td>0</td>\n",
       "      <td>0</td>\n",
       "      <td>0</td>\n",
       "      <td>0</td>\n",
       "      <td>1</td>\n",
       "      <td>0</td>\n",
       "      <td>0</td>\n",
       "    </tr>\n",
       "    <tr>\n",
       "      <th>887</th>\n",
       "      <td>1.0</td>\n",
       "      <td>0</td>\n",
       "      <td>1</td>\n",
       "      <td>1</td>\n",
       "      <td>0</td>\n",
       "      <td>0</td>\n",
       "      <td>0</td>\n",
       "      <td>0</td>\n",
       "      <td>1</td>\n",
       "      <td>1</td>\n",
       "      <td>...</td>\n",
       "      <td>0</td>\n",
       "      <td>0</td>\n",
       "      <td>1</td>\n",
       "      <td>0</td>\n",
       "      <td>1</td>\n",
       "      <td>0</td>\n",
       "      <td>0</td>\n",
       "      <td>0</td>\n",
       "      <td>0</td>\n",
       "      <td>0</td>\n",
       "    </tr>\n",
       "    <tr>\n",
       "      <th>888</th>\n",
       "      <td>0.0</td>\n",
       "      <td>0</td>\n",
       "      <td>0</td>\n",
       "      <td>0</td>\n",
       "      <td>0</td>\n",
       "      <td>1</td>\n",
       "      <td>0</td>\n",
       "      <td>0</td>\n",
       "      <td>1</td>\n",
       "      <td>1</td>\n",
       "      <td>...</td>\n",
       "      <td>0</td>\n",
       "      <td>0</td>\n",
       "      <td>1</td>\n",
       "      <td>0</td>\n",
       "      <td>1</td>\n",
       "      <td>0</td>\n",
       "      <td>0</td>\n",
       "      <td>0</td>\n",
       "      <td>1</td>\n",
       "      <td>0</td>\n",
       "    </tr>\n",
       "    <tr>\n",
       "      <th>889</th>\n",
       "      <td>1.0</td>\n",
       "      <td>0</td>\n",
       "      <td>1</td>\n",
       "      <td>1</td>\n",
       "      <td>0</td>\n",
       "      <td>0</td>\n",
       "      <td>1</td>\n",
       "      <td>0</td>\n",
       "      <td>0</td>\n",
       "      <td>1</td>\n",
       "      <td>...</td>\n",
       "      <td>0</td>\n",
       "      <td>0</td>\n",
       "      <td>1</td>\n",
       "      <td>0</td>\n",
       "      <td>0</td>\n",
       "      <td>1</td>\n",
       "      <td>0</td>\n",
       "      <td>0</td>\n",
       "      <td>0</td>\n",
       "      <td>0</td>\n",
       "    </tr>\n",
       "    <tr>\n",
       "      <th>890</th>\n",
       "      <td>0.0</td>\n",
       "      <td>0</td>\n",
       "      <td>0</td>\n",
       "      <td>1</td>\n",
       "      <td>0</td>\n",
       "      <td>1</td>\n",
       "      <td>1</td>\n",
       "      <td>1</td>\n",
       "      <td>0</td>\n",
       "      <td>1</td>\n",
       "      <td>...</td>\n",
       "      <td>0</td>\n",
       "      <td>0</td>\n",
       "      <td>0</td>\n",
       "      <td>0</td>\n",
       "      <td>0</td>\n",
       "      <td>1</td>\n",
       "      <td>0</td>\n",
       "      <td>0</td>\n",
       "      <td>0</td>\n",
       "      <td>0</td>\n",
       "    </tr>\n",
       "  </tbody>\n",
       "</table>\n",
       "<p>891 rows × 22 columns</p>\n",
       "</div>"
      ],
      "text/plain": [
       "     Survived  Baby_ind  Cabin_ind  IsAlone  Pclass_2  Pclass_3  Sex_male  \\\n",
       "0         0.0         0          0        0         0         1         1   \n",
       "1         1.0         0          1        0         0         0         0   \n",
       "2         1.0         0          0        1         0         1         0   \n",
       "3         1.0         0          1        0         0         0         0   \n",
       "4         0.0         0          0        1         0         1         1   \n",
       "..        ...       ...        ...      ...       ...       ...       ...   \n",
       "886       0.0         0          0        1         1         0         1   \n",
       "887       1.0         0          1        1         0         0         0   \n",
       "888       0.0         0          0        0         0         1         0   \n",
       "889       1.0         0          1        1         0         0         1   \n",
       "890       0.0         0          0        1         0         1         1   \n",
       "\n",
       "     Embarked_Q  Embarked_S  Age_bin_2  ...  Age_bin_5  Fare_bin_1  \\\n",
       "0             0           1          1  ...          0           0   \n",
       "1             0           0          0  ...          0           0   \n",
       "2             0           1          1  ...          0           1   \n",
       "3             0           1          0  ...          0           0   \n",
       "4             0           1          0  ...          0           1   \n",
       "..          ...         ...        ...  ...        ...         ...   \n",
       "886           0           1          1  ...          0           1   \n",
       "887           0           1          1  ...          0           0   \n",
       "888           0           1          1  ...          0           0   \n",
       "889           0           0          1  ...          0           0   \n",
       "890           1           0          1  ...          0           0   \n",
       "\n",
       "     Fare_bin_2  Fare_bin_3  Title_Miss  Title_Mr  Title_Mrs  Title_Officer  \\\n",
       "0             0           0           0         1          0              0   \n",
       "1             0           1           0         0          1              0   \n",
       "2             0           0           1         0          0              0   \n",
       "3             0           1           0         0          1              0   \n",
       "4             0           0           0         1          0              0   \n",
       "..          ...         ...         ...       ...        ...            ...   \n",
       "886           0           0           0         0          0              1   \n",
       "887           1           0           1         0          0              0   \n",
       "888           1           0           1         0          0              0   \n",
       "889           1           0           0         1          0              0   \n",
       "890           0           0           0         1          0              0   \n",
       "\n",
       "     Family_Size_bin_2  Family_Size_bin_3  \n",
       "0                    0                  0  \n",
       "1                    0                  0  \n",
       "2                    0                  0  \n",
       "3                    0                  0  \n",
       "4                    0                  0  \n",
       "..                 ...                ...  \n",
       "886                  0                  0  \n",
       "887                  0                  0  \n",
       "888                  1                  0  \n",
       "889                  0                  0  \n",
       "890                  0                  0  \n",
       "\n",
       "[891 rows x 22 columns]"
      ]
     },
     "execution_count": 14,
     "metadata": {},
     "output_type": "execute_result"
    }
   ],
   "source": [
    "all_train"
   ]
  },
  {
   "cell_type": "code",
   "execution_count": 15,
   "id": "5036a96d",
   "metadata": {
    "execution": {
     "iopub.execute_input": "2022-06-27T18:33:09.704380Z",
     "iopub.status.busy": "2022-06-27T18:33:09.703972Z",
     "iopub.status.idle": "2022-06-27T18:33:09.711042Z",
     "shell.execute_reply": "2022-06-27T18:33:09.709933Z"
    },
    "papermill": {
     "duration": 0.024502,
     "end_time": "2022-06-27T18:33:09.713466",
     "exception": false,
     "start_time": "2022-06-27T18:33:09.688964",
     "status": "completed"
    },
    "tags": []
   },
   "outputs": [
    {
     "data": {
      "text/plain": [
       "dict_keys(['C', 'class_weight', 'dual', 'fit_intercept', 'intercept_scaling', 'l1_ratio', 'max_iter', 'multi_class', 'n_jobs', 'penalty', 'random_state', 'solver', 'tol', 'verbose', 'warm_start'])"
      ]
     },
     "execution_count": 15,
     "metadata": {},
     "output_type": "execute_result"
    }
   ],
   "source": [
    "LogisticRegression().get_params().keys()"
   ]
  },
  {
   "cell_type": "markdown",
   "id": "c67018f2",
   "metadata": {
    "papermill": {
     "duration": 0.013531,
     "end_time": "2022-06-27T18:33:09.741159",
     "exception": false,
     "start_time": "2022-06-27T18:33:09.727628",
     "status": "completed"
    },
    "tags": []
   },
   "source": [
    "# pipeline(PCA + Logistic Regression) with gridsearch"
   ]
  },
  {
   "cell_type": "code",
   "execution_count": 16,
   "id": "1d6722a9",
   "metadata": {
    "execution": {
     "iopub.execute_input": "2022-06-27T18:33:09.771473Z",
     "iopub.status.busy": "2022-06-27T18:33:09.771063Z",
     "iopub.status.idle": "2022-06-27T18:33:19.675928Z",
     "shell.execute_reply": "2022-06-27T18:33:19.674521Z"
    },
    "papermill": {
     "duration": 9.923453,
     "end_time": "2022-06-27T18:33:19.678696",
     "exception": false,
     "start_time": "2022-06-27T18:33:09.755243",
     "status": "completed"
    },
    "tags": []
   },
   "outputs": [
    {
     "name": "stdout",
     "output_type": "stream",
     "text": [
      "Best Estimator: Pipeline(steps=[('pca', PCA(n_components=16)),\n",
      "                ('logistic', LogisticRegression(max_iter=1000))])\n",
      "Best Accuracy: 83.30%\n",
      "Best Parameters: {'logistic__C': 1.0, 'logistic__fit_intercept': True, 'pca__n_components': 16}\n"
     ]
    },
    {
     "data": {
      "image/png": "[encoded data removed]",
      "text/plain": [
       "<Figure size 864x288 with 2 Axes>"
      ]
     },
     "metadata": {
      "needs_background": "light"
     },
     "output_type": "display_data"
    }
   ],
   "source": [
    "pca = PCA()\n",
    "\n",
    "log_reg = LogisticRegression(max_iter=1000)\n",
    "\n",
    "pipe = Pipeline(steps=[(\"pca\", pca), (\"logistic\", log_reg)])\n",
    "\n",
    "param_grid = {\n",
    "    \"pca__n_components\": np.arange(1,21),\n",
    "    \"logistic__C\": np.logspace(-4, 4, 7),\n",
    "    \"logistic__fit_intercept\" :[True,False],\n",
    "}\n",
    "\n",
    "\n",
    "gridsearch_lr = GridSearchCV(estimator=pipe, \n",
    "                           param_grid=param_grid,\n",
    "                           scoring='accuracy',\n",
    "                           cv=5,\n",
    "#                           verbose=2,\n",
    "                           n_jobs=-1)\n",
    "\n",
    "gridsearch_lr.fit(X_train,y_train)\n",
    "\n",
    "\n",
    "best_estimator = gridsearch_lr.best_estimator_\n",
    "best_accuracy = gridsearch_lr.best_score_\n",
    "best_parameters = gridsearch_lr.best_params_\n",
    "\n",
    "print('Best Estimator:', best_estimator)\n",
    "print('Best Accuracy: {:.2f}%'.format(best_accuracy*100))\n",
    "print('Best Parameters:', best_parameters)\n",
    "\n",
    "#pd.DataFrame(griedsearch.cv_results_).head()\n",
    "\n",
    "\n",
    "\n",
    "# Plot the PCA spectrum\n",
    "pca.fit(X_train)\n",
    "\n",
    "fig, (ax0, ax1) = plt.subplots(nrows=1,ncols=2, sharex=True, figsize=(12, 4))\n",
    "ax0.plot(\n",
    "    np.arange(1, pca.n_components_ + 1), pca.explained_variance_ratio_, \"+\", linewidth=2\n",
    ")\n",
    "ax0.set_ylabel(\"PCA explained variance ratio\")\n",
    "\n",
    "ax0.axvline(\n",
    "    gridsearch_lr.best_estimator_.named_steps[\"pca\"].n_components,\n",
    "    linestyle=\":\",\n",
    "    label=\"n_components chosen\",\n",
    ")\n",
    "ax0.legend(prop=dict(size=12))\n",
    "\n",
    "# For each number of components, find the best classifier results\n",
    "results = pd.DataFrame(gridsearch_lr.cv_results_)\n",
    "components_col = \"param_pca__n_components\"\n",
    "best_clfs = results.groupby(components_col).apply(\n",
    "    lambda g: g.nlargest(1, \"mean_test_score\")\n",
    ")\n",
    "\n",
    "best_clfs.plot(\n",
    "    x=components_col, y=\"mean_test_score\", yerr=\"std_test_score\", legend=False, ax=ax1\n",
    ")\n",
    "ax1.set_ylabel(\"Classification accuracy (val)\")\n",
    "ax1.set_xlabel(\"n_components\")\n",
    "\n",
    "plt.xlim(-1, 22)\n",
    "\n",
    "plt.tight_layout()\n",
    "plt.show()"
   ]
  },
  {
   "cell_type": "code",
   "execution_count": 17,
   "id": "d427e00c",
   "metadata": {
    "execution": {
     "iopub.execute_input": "2022-06-27T18:33:19.711013Z",
     "iopub.status.busy": "2022-06-27T18:33:19.710021Z",
     "iopub.status.idle": "2022-06-27T18:33:19.780890Z",
     "shell.execute_reply": "2022-06-27T18:33:19.778186Z"
    },
    "papermill": {
     "duration": 0.091722,
     "end_time": "2022-06-27T18:33:19.785613",
     "exception": false,
     "start_time": "2022-06-27T18:33:19.693891",
     "status": "completed"
    },
    "tags": []
   },
   "outputs": [
    {
     "name": "stdout",
     "output_type": "stream",
     "text": [
      "Training score: 0.8378812199036918\n",
      "              precision    recall  f1-score   support\n",
      "\n",
      "         0.0       0.81      0.89      0.85       165\n",
      "         1.0       0.79      0.66      0.72       103\n",
      "\n",
      "    accuracy                           0.80       268\n",
      "   macro avg       0.80      0.78      0.78       268\n",
      "weighted avg       0.80      0.80      0.80       268\n",
      "\n",
      "[[147  18]\n",
      " [ 35  68]]\n"
     ]
    }
   ],
   "source": [
    "pca = PCA(n_components=16)\n",
    "\n",
    "logistic = LogisticRegression(C = 1, max_iter=10000, fit_intercept = True, tol=0.0001)\n",
    "\n",
    "pipe = Pipeline(steps=[(\"pca\", pca), (\"logistic\", logistic)])\n",
    "\n",
    "pipe.fit(X_train, y_train)\n",
    "print('Training score:', pipe.score(X_train,y_train))\n",
    "p_predict= pipe.predict(X_test)\n",
    "\n",
    "print(classification_report(y_test, p_predict))\n",
    "\n",
    "print(confusion_matrix(y_test, p_predict))"
   ]
  },
  {
   "cell_type": "code",
   "execution_count": 18,
   "id": "e6c6fb8e",
   "metadata": {
    "execution": {
     "iopub.execute_input": "2022-06-27T18:33:19.842983Z",
     "iopub.status.busy": "2022-06-27T18:33:19.842363Z",
     "iopub.status.idle": "2022-06-27T18:33:20.295457Z",
     "shell.execute_reply": "2022-06-27T18:33:20.294252Z"
    },
    "papermill": {
     "duration": 0.48487,
     "end_time": "2022-06-27T18:33:20.298474",
     "exception": false,
     "start_time": "2022-06-27T18:33:19.813604",
     "status": "completed"
    },
    "tags": []
   },
   "outputs": [
    {
     "name": "stdout",
     "output_type": "stream",
     "text": [
      "Training score: 0.8362760834670947\n",
      "              precision    recall  f1-score   support\n",
      "\n",
      "         0.0       0.80      0.90      0.85       165\n",
      "         1.0       0.80      0.64      0.71       103\n",
      "\n",
      "    accuracy                           0.80       268\n",
      "   macro avg       0.80      0.77      0.78       268\n",
      "weighted avg       0.80      0.80      0.80       268\n",
      "\n",
      "[[149  16]\n",
      " [ 37  66]]\n",
      "0.8048780487804879\n",
      "0.6407766990291263\n",
      "(array([0.       , 0.0969697, 1.       ]), array([0.       , 0.6407767, 1.       ]), array([2., 1., 0.]))\n",
      "0.7719035010297147\n",
      "0.6538068007111024\n"
     ]
    },
    {
     "data": {
      "text/plain": [
       "<sklearn.metrics._plot.precision_recall_curve.PrecisionRecallDisplay at 0x7f52191a2490>"
      ]
     },
     "execution_count": 18,
     "metadata": {},
     "output_type": "execute_result"
    },
    {
     "data": {
      "image/png": "[encoded data removed]",
      "text/plain": [
       "<Figure size 720x360 with 2 Axes>"
      ]
     },
     "metadata": {
      "needs_background": "light"
     },
     "output_type": "display_data"
    }
   ],
   "source": [
    "log_reg = LogisticRegression(C = 0.1,fit_intercept = False)\n",
    "\n",
    "log_reg.fit(X_train,y_train)\n",
    "\n",
    "print('Training score:', log_reg.score(X_train,y_train))\n",
    "\n",
    "fig,(ax1,ax2)=plt.subplots(1,2, figsize=(10,5))\n",
    "PrecisionRecallDisplay.from_estimator(log_reg, X_train, y_train, ax = ax1)\n",
    "\n",
    "\n",
    "\n",
    "pred_lr = log_reg.predict(X_test)\n",
    "\n",
    "\n",
    "print(classification_report(y_test, pred_lr))\n",
    "\n",
    "print(confusion_matrix(y_test, pred_lr))\n",
    "\n",
    "print(precision_score(y_test, pred_lr))\n",
    "\n",
    "print(recall_score(y_test, pred_lr))\n",
    "print(roc_curve(y_test, pred_lr))\n",
    "print(roc_auc_score(y_test, pred_lr))\n",
    "print(average_precision_score(y_test, pred_lr))\n",
    "\n",
    "y_pred = log_reg.predict_proba(X_test)[:, 1]\n",
    "PrecisionRecallDisplay.from_predictions(y_test, y_pred, ax=ax2)"
   ]
  },
  {
   "cell_type": "code",
   "execution_count": null,
   "id": "9f894da3",
   "metadata": {
    "papermill": {
     "duration": 0.015157,
     "end_time": "2022-06-27T18:33:20.329618",
     "exception": false,
     "start_time": "2022-06-27T18:33:20.314461",
     "status": "completed"
    },
    "scrolled": true,
    "tags": []
   },
   "outputs": [],
   "source": []
  },
  {
   "cell_type": "code",
   "execution_count": null,
   "id": "306b7c45",
   "metadata": {
    "papermill": {
     "duration": 0.014947,
     "end_time": "2022-06-27T18:33:20.359925",
     "exception": false,
     "start_time": "2022-06-27T18:33:20.344978",
     "status": "completed"
    },
    "tags": []
   },
   "outputs": [],
   "source": []
  },
  {
   "cell_type": "markdown",
   "id": "5a809d91",
   "metadata": {
    "papermill": {
     "duration": 0.015067,
     "end_time": "2022-06-27T18:33:20.390439",
     "exception": false,
     "start_time": "2022-06-27T18:33:20.375372",
     "status": "completed"
    },
    "tags": []
   },
   "source": [
    "# Pipeline(PCA+Random Forest Classifier) with gridsearch"
   ]
  },
  {
   "cell_type": "code",
   "execution_count": 19,
   "id": "74de9399",
   "metadata": {
    "execution": {
     "iopub.execute_input": "2022-06-27T18:33:20.422914Z",
     "iopub.status.busy": "2022-06-27T18:33:20.422484Z",
     "iopub.status.idle": "2022-06-27T18:33:20.429984Z",
     "shell.execute_reply": "2022-06-27T18:33:20.428866Z"
    },
    "papermill": {
     "duration": 0.026514,
     "end_time": "2022-06-27T18:33:20.432348",
     "exception": false,
     "start_time": "2022-06-27T18:33:20.405834",
     "status": "completed"
    },
    "tags": []
   },
   "outputs": [
    {
     "data": {
      "text/plain": [
       "dict_keys(['memory', 'steps', 'verbose', 'pca', 'logistic', 'pca__copy', 'pca__iterated_power', 'pca__n_components', 'pca__random_state', 'pca__svd_solver', 'pca__tol', 'pca__whiten', 'logistic__C', 'logistic__class_weight', 'logistic__dual', 'logistic__fit_intercept', 'logistic__intercept_scaling', 'logistic__l1_ratio', 'logistic__max_iter', 'logistic__multi_class', 'logistic__n_jobs', 'logistic__penalty', 'logistic__random_state', 'logistic__solver', 'logistic__tol', 'logistic__verbose', 'logistic__warm_start'])"
      ]
     },
     "execution_count": 19,
     "metadata": {},
     "output_type": "execute_result"
    }
   ],
   "source": [
    "pca.get_params().keys()\n",
    "pipe.get_params().keys()"
   ]
  },
  {
   "cell_type": "code",
   "execution_count": 20,
   "id": "c42b6208",
   "metadata": {
    "execution": {
     "iopub.execute_input": "2022-06-27T18:33:20.465665Z",
     "iopub.status.busy": "2022-06-27T18:33:20.465249Z",
     "iopub.status.idle": "2022-06-27T18:36:17.358587Z",
     "shell.execute_reply": "2022-06-27T18:36:17.357347Z"
    },
    "papermill": {
     "duration": 176.912839,
     "end_time": "2022-06-27T18:36:17.361118",
     "exception": false,
     "start_time": "2022-06-27T18:33:20.448279",
     "status": "completed"
    },
    "tags": []
   },
   "outputs": [
    {
     "name": "stdout",
     "output_type": "stream",
     "text": [
      "Best Estimator: Pipeline(steps=[('pca', PCA(n_components=20)),\n",
      "                ('rfc', RandomForestClassifier(max_depth=400))])\n",
      "Best Accuracy: 83.31%\n",
      "Best Parameters: {'pca__n_components': 20, 'rfc__criterion': 'gini', 'rfc__max_depth': 400, 'rfc__n_estimators': 100}\n"
     ]
    },
    {
     "data": {
      "image/png": "[encoded data removed]",
      "text/plain": [
       "<Figure size 864x288 with 2 Axes>"
      ]
     },
     "metadata": {
      "needs_background": "light"
     },
     "output_type": "display_data"
    }
   ],
   "source": [
    "pca = PCA()\n",
    "rfc = RandomForestClassifier()\n",
    "\n",
    "pipe = Pipeline(steps=[(\"pca\", pca), (\"rfc\", rfc)])\n",
    "\n",
    "param_grid = {\n",
    "    \"pca__n_components\": [2,5,8,10,11,14,15,16,20],\n",
    "    'rfc__n_estimators': [50, 100, 250, 300],\n",
    "    'rfc__max_depth': [None, 100, 200, 300, 400],\n",
    "    'rfc__criterion' :['gini', 'entropy']\n",
    "}\n",
    "\n",
    "\n",
    "gridsearch_rfc = GridSearchCV(estimator=pipe, \n",
    "                           param_grid=param_grid,\n",
    "                           scoring='accuracy',\n",
    "                           cv=3,\n",
    "#                           verbose=2,\n",
    "                           n_jobs=-1)\n",
    "\n",
    "gridsearch_rfc.fit(X_train,y_train)\n",
    "\n",
    "\n",
    "best_estimator = gridsearch_rfc.best_estimator_\n",
    "best_accuracy = gridsearch_rfc.best_score_\n",
    "best_parameters = gridsearch_rfc.best_params_\n",
    "\n",
    "print('Best Estimator:', best_estimator)\n",
    "print('Best Accuracy: {:.2f}%'.format(best_accuracy*100))\n",
    "print('Best Parameters:', best_parameters)\n",
    "\n",
    "#pd.DataFrame(griedsearch.cv_results_).head()\n",
    "\n",
    "\n",
    "\n",
    "# Plot the PCA spectrum\n",
    "pca.fit(X_train)\n",
    "\n",
    "fig, (ax0, ax1) = plt.subplots(nrows=1,ncols=2, sharex=True, figsize=(12, 4))\n",
    "ax0.plot(\n",
    "    np.arange(1, pca.n_components_ + 1), pca.explained_variance_ratio_, \"+\", linewidth=2\n",
    ")\n",
    "ax0.set_ylabel(\"PCA explained variance ratio\")\n",
    "\n",
    "ax0.axvline(\n",
    "    gridsearch_rfc.best_estimator_.named_steps[\"pca\"].n_components,\n",
    "    linestyle=\":\",\n",
    "    label=\"n_components chosen\",\n",
    ")\n",
    "ax0.legend(prop=dict(size=12))\n",
    "\n",
    "# For each number of components, find the best classifier results\n",
    "results = pd.DataFrame(gridsearch_rfc.cv_results_)\n",
    "components_col = \"param_pca__n_components\"\n",
    "best_clfs = results.groupby(components_col).apply(\n",
    "    lambda g: g.nlargest(1, \"mean_test_score\")\n",
    ")\n",
    "\n",
    "best_clfs.plot(\n",
    "    x=components_col, y=\"mean_test_score\", yerr=\"std_test_score\", legend=False, ax=ax1\n",
    ")\n",
    "ax1.set_ylabel(\"Classification accuracy (val)\")\n",
    "ax1.set_xlabel(\"n_components\")\n",
    "\n",
    "plt.xlim(-1, 22)\n",
    "\n",
    "plt.tight_layout()\n",
    "plt.show()"
   ]
  },
  {
   "cell_type": "code",
   "execution_count": 21,
   "id": "c4a705fe",
   "metadata": {
    "execution": {
     "iopub.execute_input": "2022-06-27T18:36:17.395960Z",
     "iopub.status.busy": "2022-06-27T18:36:17.395556Z",
     "iopub.status.idle": "2022-06-27T18:36:18.288951Z",
     "shell.execute_reply": "2022-06-27T18:36:18.287172Z"
    },
    "papermill": {
     "duration": 0.914805,
     "end_time": "2022-06-27T18:36:18.292406",
     "exception": false,
     "start_time": "2022-06-27T18:36:17.377601",
     "status": "completed"
    },
    "tags": []
   },
   "outputs": [
    {
     "name": "stdout",
     "output_type": "stream",
     "text": [
      "Training score: 0.913322632423756\n",
      "              precision    recall  f1-score   support\n",
      "\n",
      "         0.0       0.78      0.85      0.82       165\n",
      "         1.0       0.73      0.62      0.67       103\n",
      "\n",
      "    accuracy                           0.76       268\n",
      "   macro avg       0.76      0.74      0.74       268\n",
      "weighted avg       0.76      0.76      0.76       268\n",
      "\n",
      "[[141  24]\n",
      " [ 39  64]]\n"
     ]
    }
   ],
   "source": [
    "pca = PCA(n_components=20)\n",
    "\n",
    "rfc = RandomForestClassifier(criterion= 'entropy', max_depth= 300, n_estimators=250)\n",
    "\n",
    "pipe = Pipeline(steps=[(\"pca\", pca), (\"rfc\", rfc)])\n",
    "\n",
    "pipe.fit(X_train, y_train)\n",
    "print('Training score:', pipe.score(X_train,y_train))\n",
    "rfc_predict= pipe.predict(X_test)\n",
    "\n",
    "print(classification_report(y_test, rfc_predict))\n",
    "\n",
    "print(confusion_matrix(y_test, rfc_predict))"
   ]
  },
  {
   "cell_type": "markdown",
   "id": "ea85f4ca",
   "metadata": {
    "papermill": {
     "duration": 0.016155,
     "end_time": "2022-06-27T18:36:18.325798",
     "exception": false,
     "start_time": "2022-06-27T18:36:18.309643",
     "status": "completed"
    },
    "tags": []
   },
   "source": [
    "# K-Fold Cross Validation with Random Forest:"
   ]
  },
  {
   "cell_type": "code",
   "execution_count": 22,
   "id": "648a327f",
   "metadata": {
    "execution": {
     "iopub.execute_input": "2022-06-27T18:36:18.360303Z",
     "iopub.status.busy": "2022-06-27T18:36:18.359534Z",
     "iopub.status.idle": "2022-06-27T18:36:23.582345Z",
     "shell.execute_reply": "2022-06-27T18:36:23.580563Z"
    },
    "papermill": {
     "duration": 5.2436,
     "end_time": "2022-06-27T18:36:23.585501",
     "exception": false,
     "start_time": "2022-06-27T18:36:18.341901",
     "status": "completed"
    },
    "tags": []
   },
   "outputs": [
    {
     "name": "stdout",
     "output_type": "stream",
     "text": [
      "Scores: [0.79365079 0.82539683 0.85714286 0.85483871 0.79032258 0.91935484\n",
      " 0.82258065 0.85483871 0.75806452 0.85483871]\n",
      "Mean: 0.8331029185867894\n",
      "Standard Deviation: 0.04315337488973733\n"
     ]
    }
   ],
   "source": [
    "rfc = RandomForestClassifier(criterion= 'gini', max_depth= 400, n_estimators=250)\n",
    "scores_rfc = cross_val_score(rfc, X_train, y_train, cv=10, scoring = \"accuracy\")\n",
    "print(\"Scores:\", scores_rfc)\n",
    "print(\"Mean:\", scores_rfc.mean())\n",
    "print(\"Standard Deviation:\", scores_rfc.std())"
   ]
  },
  {
   "cell_type": "code",
   "execution_count": null,
   "id": "8b1f2cbe",
   "metadata": {
    "papermill": {
     "duration": 0.018916,
     "end_time": "2022-06-27T18:36:23.622833",
     "exception": false,
     "start_time": "2022-06-27T18:36:23.603917",
     "status": "completed"
    },
    "tags": []
   },
   "outputs": [],
   "source": []
  },
  {
   "cell_type": "code",
   "execution_count": 23,
   "id": "7f363c81",
   "metadata": {
    "execution": {
     "iopub.execute_input": "2022-06-27T18:36:23.658969Z",
     "iopub.status.busy": "2022-06-27T18:36:23.658559Z",
     "iopub.status.idle": "2022-06-27T18:36:23.666280Z",
     "shell.execute_reply": "2022-06-27T18:36:23.665106Z"
    },
    "papermill": {
     "duration": 0.028596,
     "end_time": "2022-06-27T18:36:23.668638",
     "exception": false,
     "start_time": "2022-06-27T18:36:23.640042",
     "status": "completed"
    },
    "tags": []
   },
   "outputs": [
    {
     "data": {
      "text/plain": [
       "dict_keys(['algorithm', 'leaf_size', 'metric', 'metric_params', 'n_jobs', 'n_neighbors', 'p', 'weights'])"
      ]
     },
     "execution_count": 23,
     "metadata": {},
     "output_type": "execute_result"
    }
   ],
   "source": [
    "KNeighborsClassifier().get_params().keys()"
   ]
  },
  {
   "cell_type": "markdown",
   "id": "c345e27b",
   "metadata": {
    "papermill": {
     "duration": 0.015913,
     "end_time": "2022-06-27T18:36:23.701647",
     "exception": false,
     "start_time": "2022-06-27T18:36:23.685734",
     "status": "completed"
    },
    "tags": []
   },
   "source": [
    "# Pipeline(KNN+Random Forest) with gridsearch"
   ]
  },
  {
   "cell_type": "code",
   "execution_count": 24,
   "id": "3de039c5",
   "metadata": {
    "execution": {
     "iopub.execute_input": "2022-06-27T18:36:23.736336Z",
     "iopub.status.busy": "2022-06-27T18:36:23.735890Z",
     "iopub.status.idle": "2022-06-27T18:36:27.827925Z",
     "shell.execute_reply": "2022-06-27T18:36:27.826791Z"
    },
    "papermill": {
     "duration": 4.112634,
     "end_time": "2022-06-27T18:36:27.830556",
     "exception": false,
     "start_time": "2022-06-27T18:36:23.717922",
     "status": "completed"
    },
    "tags": []
   },
   "outputs": [
    {
     "name": "stdout",
     "output_type": "stream",
     "text": [
      "Best Estimator: Pipeline(steps=[('pca', PCA(n_components=16)),\n",
      "                ('knn', KNeighborsClassifier(n_neighbors=11))])\n",
      "Best Accuracy: 83.47%\n",
      "Best Parameters: {'knn__n_neighbors': 11, 'pca__n_components': 16}\n"
     ]
    },
    {
     "data": {
      "image/png": "[encoded data removed]",
      "text/plain": [
       "<Figure size 864x288 with 2 Axes>"
      ]
     },
     "metadata": {
      "needs_background": "light"
     },
     "output_type": "display_data"
    }
   ],
   "source": [
    "pca = PCA()\n",
    "knn = KNeighborsClassifier()\n",
    "\n",
    "\n",
    "pipe = Pipeline(steps=[(\"pca\", pca), (\"knn\", knn)])\n",
    "\n",
    "param_grid = {\n",
    "    \"pca__n_components\": np.arange(1,21),\n",
    "    'knn__n_neighbors': np.arange(1,40, 5),\n",
    "#     'rfc__max_depth': [None, 100, 200, 300, 400],\n",
    "#     'rfc__criterion' :['gini', 'entropy']\n",
    "}\n",
    "\n",
    "\n",
    "gridsearch_knn = GridSearchCV(estimator=pipe, \n",
    "                           param_grid=param_grid,\n",
    "                           scoring='accuracy',\n",
    "                           cv=3,\n",
    "#                           verbose=2,\n",
    "                           n_jobs=-1)\n",
    "\n",
    "gridsearch_knn.fit(X_train,y_train)\n",
    "\n",
    "\n",
    "best_estimator = gridsearch_knn.best_estimator_\n",
    "best_accuracy = gridsearch_knn.best_score_\n",
    "best_parameters = gridsearch_knn.best_params_\n",
    "\n",
    "print('Best Estimator:', best_estimator)\n",
    "print('Best Accuracy: {:.2f}%'.format(best_accuracy*100))\n",
    "print('Best Parameters:', best_parameters)\n",
    "\n",
    "#pd.DataFrame(griedsearch.cv_results_).head()\n",
    "\n",
    "\n",
    "\n",
    "# Plot the PCA spectrum\n",
    "pca.fit(X_train)\n",
    "\n",
    "fig, (ax0, ax1) = plt.subplots(nrows=1,ncols=2, sharex=True, figsize=(12, 4))\n",
    "ax0.plot(\n",
    "    np.arange(1, pca.n_components_ + 1), pca.explained_variance_ratio_, \"+\", linewidth=2\n",
    ")\n",
    "ax0.set_ylabel(\"PCA explained variance ratio\")\n",
    "\n",
    "ax0.axvline(\n",
    "    gridsearch_knn.best_estimator_.named_steps[\"pca\"].n_components,\n",
    "    linestyle=\":\",\n",
    "    label=\"n_components chosen\",\n",
    ")\n",
    "ax0.legend(prop=dict(size=12))\n",
    "\n",
    "# For each number of components, find the best classifier results\n",
    "results = pd.DataFrame(gridsearch_knn.cv_results_)\n",
    "components_col = \"param_pca__n_components\"\n",
    "best_clfs = results.groupby(components_col).apply(\n",
    "    lambda g: g.nlargest(1, \"mean_test_score\")\n",
    ")\n",
    "\n",
    "best_clfs.plot(\n",
    "    x=components_col, y=\"mean_test_score\", yerr=\"std_test_score\", legend=False, ax=ax1\n",
    ")\n",
    "ax1.set_ylabel(\"Classification accuracy (val)\")\n",
    "ax1.set_xlabel(\"n_components\")\n",
    "\n",
    "plt.xlim(-1, 22)\n",
    "\n",
    "plt.tight_layout()\n",
    "plt.show()"
   ]
  },
  {
   "cell_type": "code",
   "execution_count": 25,
   "id": "eda34fd1",
   "metadata": {
    "execution": {
     "iopub.execute_input": "2022-06-27T18:36:27.866552Z",
     "iopub.status.busy": "2022-06-27T18:36:27.866153Z",
     "iopub.status.idle": "2022-06-27T18:36:28.129613Z",
     "shell.execute_reply": "2022-06-27T18:36:28.128199Z"
    },
    "papermill": {
     "duration": 0.286544,
     "end_time": "2022-06-27T18:36:28.134207",
     "exception": false,
     "start_time": "2022-06-27T18:36:27.847663",
     "status": "completed"
    },
    "tags": []
   },
   "outputs": [
    {
     "name": "stdout",
     "output_type": "stream",
     "text": [
      "Training score: 0.8475120385232745\n",
      "84.75\n",
      "              precision    recall  f1-score   support\n",
      "\n",
      "         0.0       0.79      0.92      0.85       165\n",
      "         1.0       0.83      0.61      0.70       103\n",
      "\n",
      "    accuracy                           0.80       268\n",
      "   macro avg       0.81      0.77      0.78       268\n",
      "weighted avg       0.81      0.80      0.79       268\n",
      "\n",
      "[[152  13]\n",
      " [ 40  63]]\n"
     ]
    }
   ],
   "source": [
    "pca = PCA(n_components=16)\n",
    "\n",
    "knn = KNeighborsClassifier(n_neighbors=11)\n",
    "\n",
    "pipe = Pipeline(steps=[(\"pca\", pca), (\"knn\", knn)])\n",
    "\n",
    "pipe.fit(X_train, y_train)\n",
    "print('Training score:', pipe.score(X_train,y_train))\n",
    "print(round(pipe.score(X_train, y_train) * 100, 2))\n",
    "\n",
    "knn_predict= pipe.predict(X_test)\n",
    "\n",
    "print(classification_report(y_test, knn_predict))\n",
    "\n",
    "print(confusion_matrix(y_test, knn_predict))\n",
    "\n"
   ]
  },
  {
   "cell_type": "markdown",
   "id": "2814157d",
   "metadata": {
    "papermill": {
     "duration": 0.031187,
     "end_time": "2022-06-27T18:36:28.199447",
     "exception": false,
     "start_time": "2022-06-27T18:36:28.168260",
     "status": "completed"
    },
    "tags": []
   },
   "source": [
    "## Elbow Method"
   ]
  },
  {
   "cell_type": "code",
   "execution_count": 26,
   "id": "f74f4a9d",
   "metadata": {
    "execution": {
     "iopub.execute_input": "2022-06-27T18:36:28.241624Z",
     "iopub.status.busy": "2022-06-27T18:36:28.241232Z",
     "iopub.status.idle": "2022-06-27T18:36:31.846740Z",
     "shell.execute_reply": "2022-06-27T18:36:31.845818Z"
    },
    "papermill": {
     "duration": 3.626929,
     "end_time": "2022-06-27T18:36:31.849422",
     "exception": false,
     "start_time": "2022-06-27T18:36:28.222493",
     "status": "completed"
    },
    "scrolled": true,
    "tags": []
   },
   "outputs": [
    {
     "data": {
      "text/plain": [
       "Text(0, 0.5, 'Score')"
      ]
     },
     "execution_count": 26,
     "metadata": {},
     "output_type": "execute_result"
    },
    {
     "data": {
      "image/png": "[encoded data removed]",
      "text/plain": [
       "<Figure size 1152x576 with 1 Axes>"
      ]
     },
     "metadata": {
      "needs_background": "light"
     },
     "output_type": "display_data"
    }
   ],
   "source": [
    "error_rate = []\n",
    "\n",
    "for i in range(1,40):\n",
    "    knn = KNeighborsClassifier(n_neighbors=i)\n",
    "    knn.fit(X_train,y_train)\n",
    "    pred_i = knn.predict(X_test)\n",
    "    error_rate.append((knn.score(X_train,y_train)))\n",
    "                     \n",
    "# for i in range(1,40):\n",
    "#     print(\"k: \", format(i))\n",
    "#     print(\"error_rate\", error_rate[i-1])\n",
    "\n",
    "import matplotlib.pyplot as plt\n",
    "from matplotlib import style\n",
    "\n",
    "plt.figure(figsize=(16,8))\n",
    "plt.plot(range(1,40),error_rate,color='blue', linestyle='dashed', marker='o',\n",
    "          markerfacecolor='gray', markersize=10)\n",
    "plt.title('Score vs. K Value')\n",
    "plt.xlabel('K')\n",
    "plt.ylabel('Score')"
   ]
  },
  {
   "cell_type": "markdown",
   "id": "2a295bd8",
   "metadata": {
    "papermill": {
     "duration": 0.017782,
     "end_time": "2022-06-27T18:36:31.885162",
     "exception": false,
     "start_time": "2022-06-27T18:36:31.867380",
     "status": "completed"
    },
    "tags": []
   },
   "source": [
    "# Submission"
   ]
  },
  {
   "cell_type": "code",
   "execution_count": 27,
   "id": "5cc8102d",
   "metadata": {
    "execution": {
     "iopub.execute_input": "2022-06-27T18:36:31.922814Z",
     "iopub.status.busy": "2022-06-27T18:36:31.922139Z",
     "iopub.status.idle": "2022-06-27T18:36:31.983631Z",
     "shell.execute_reply": "2022-06-27T18:36:31.980708Z"
    },
    "papermill": {
     "duration": 0.084176,
     "end_time": "2022-06-27T18:36:31.986998",
     "exception": false,
     "start_time": "2022-06-27T18:36:31.902822",
     "status": "completed"
    },
    "tags": []
   },
   "outputs": [
    {
     "name": "stdout",
     "output_type": "stream",
     "text": [
      "Training score: 0.8378812199036918\n"
     ]
    },
    {
     "data": {
      "text/html": [
       "<div>\n",
       "<style scoped>\n",
       "    .dataframe tbody tr th:only-of-type {\n",
       "        vertical-align: middle;\n",
       "    }\n",
       "\n",
       "    .dataframe tbody tr th {\n",
       "        vertical-align: top;\n",
       "    }\n",
       "\n",
       "    .dataframe thead th {\n",
       "        text-align: right;\n",
       "    }\n",
       "</style>\n",
       "<table border=\"1\" class=\"dataframe\">\n",
       "  <thead>\n",
       "    <tr style=\"text-align: right;\">\n",
       "      <th></th>\n",
       "      <th>PassengerId</th>\n",
       "      <th>Survived</th>\n",
       "    </tr>\n",
       "  </thead>\n",
       "  <tbody>\n",
       "    <tr>\n",
       "      <th>0</th>\n",
       "      <td>892</td>\n",
       "      <td>0.0</td>\n",
       "    </tr>\n",
       "    <tr>\n",
       "      <th>1</th>\n",
       "      <td>893</td>\n",
       "      <td>0.0</td>\n",
       "    </tr>\n",
       "    <tr>\n",
       "      <th>2</th>\n",
       "      <td>894</td>\n",
       "      <td>0.0</td>\n",
       "    </tr>\n",
       "    <tr>\n",
       "      <th>3</th>\n",
       "      <td>895</td>\n",
       "      <td>0.0</td>\n",
       "    </tr>\n",
       "    <tr>\n",
       "      <th>4</th>\n",
       "      <td>896</td>\n",
       "      <td>1.0</td>\n",
       "    </tr>\n",
       "  </tbody>\n",
       "</table>\n",
       "</div>"
      ],
      "text/plain": [
       "   PassengerId  Survived\n",
       "0          892       0.0\n",
       "1          893       0.0\n",
       "2          894       0.0\n",
       "3          895       0.0\n",
       "4          896       1.0"
      ]
     },
     "execution_count": 27,
     "metadata": {},
     "output_type": "execute_result"
    }
   ],
   "source": [
    "pca = PCA(n_components=16)\n",
    "\n",
    "logistic = LogisticRegression(C = 1, max_iter=10000, fit_intercept = True, tol=0.0001)\n",
    "\n",
    "pipe = Pipeline(steps=[(\"pca\", pca), (\"logistic\", logistic)])\n",
    "\n",
    "pipe.fit(X_train, y_train)\n",
    "print('Training score:', pipe.score(X_train,y_train))\n",
    "\n",
    "p_predict= pipe.predict(all_test.drop('Survived', axis=1))\n",
    "\n",
    "submission_df = pd.DataFrame({\n",
    "    'PassengerId' : test['PassengerId'], \n",
    "    'Survived' : p_predict\n",
    "})\n",
    "\n",
    "\n",
    "submission_df.head()\n",
    "\n",
    "# print(classification_report(y_test, knn_predict))\n",
    "\n",
    "# print(confusion_matrix(y_test, knn_predict))"
   ]
  },
  {
   "cell_type": "code",
   "execution_count": 28,
   "id": "ecde4554",
   "metadata": {
    "execution": {
     "iopub.execute_input": "2022-06-27T18:36:32.086999Z",
     "iopub.status.busy": "2022-06-27T18:36:32.085760Z",
     "iopub.status.idle": "2022-06-27T18:36:32.095710Z",
     "shell.execute_reply": "2022-06-27T18:36:32.094551Z"
    },
    "papermill": {
     "duration": 0.052288,
     "end_time": "2022-06-27T18:36:32.098232",
     "exception": false,
     "start_time": "2022-06-27T18:36:32.045944",
     "status": "completed"
    },
    "tags": []
   },
   "outputs": [],
   "source": [
    "submission_df.to_csv('./submission.csv', index=False)"
   ]
  },
  {
   "cell_type": "code",
   "execution_count": null,
   "id": "633df36c",
   "metadata": {
    "papermill": {
     "duration": 0.018562,
     "end_time": "2022-06-27T18:36:32.134868",
     "exception": false,
     "start_time": "2022-06-27T18:36:32.116306",
     "status": "completed"
    },
    "tags": []
   },
   "outputs": [],
   "source": []
  }
 ],
 "metadata": {
  "kernelspec": {
   "display_name": "Python 3",
   "language": "python",
   "name": "python3"
  },
  "language_info": {
   "codemirror_mode": {
    "name": "ipython",
    "version": 3
   },
   "file_extension": ".py",
   "mimetype": "text/x-python",
   "name": "python",
   "nbconvert_exporter": "python",
   "pygments_lexer": "ipython3",
   "version": "3.7.12"
  },
  "papermill": {
   "default_parameters": {},
   "duration": 219.048186,
   "end_time": "2022-06-27T18:36:34.775824",
   "environment_variables": {},
   "exception": null,
   "input_path": "__notebook__.ipynb",
   "output_path": "__notebook__.ipynb",
   "parameters": {},
   "start_time": "2022-06-27T18:32:55.727638",
   "version": "2.3.4"
  }
 },
 "nbformat": 4,
 "nbformat_minor": 5
}
